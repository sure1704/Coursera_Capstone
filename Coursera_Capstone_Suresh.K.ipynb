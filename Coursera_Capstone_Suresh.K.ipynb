{
  "nbformat": 4,
  "nbformat_minor": 0,
  "metadata": {
    "colab": {
      "name": "Coursera_Capstone.ipynb",
      "provenance": [],
      "collapsed_sections": []
    },
    "kernelspec": {
      "name": "python3",
      "display_name": "Python 3"
    }
  },
  "cells": [
    {
      "cell_type": "markdown",
      "metadata": {
        "id": "cTNN6i1SCRJy",
        "colab_type": "text"
      },
      "source": [
        "*Importing Libraries*"
      ]
    },
    {
      "cell_type": "code",
      "metadata": {
        "id": "8bRREWYGCcaw",
        "colab_type": "code",
        "colab": {
          "base_uri": "https://localhost:8080/",
          "height": 34
        },
        "outputId": "c86e72a4-8f67-4a67-aefc-b3710d460d9f"
      },
      "source": [
        "from bs4 import BeautifulSoup\n",
        "import requests\n",
        "import pandas as pd\n",
        "\n",
        "print('Libraries imported')"
      ],
      "execution_count": 2,
      "outputs": [
        {
          "output_type": "stream",
          "text": [
            "Libraries imported\n"
          ],
          "name": "stdout"
        }
      ]
    },
    {
      "cell_type": "markdown",
      "metadata": {
        "id": "Zl2cnpLMCmxX",
        "colab_type": "text"
      },
      "source": [
        "##**COVID-19 pandemic data/India/Tamil Nadu medical cases by district**\n",
        "\n"
      ]
    },
    {
      "cell_type": "code",
      "metadata": {
        "id": "VG10iWSvCn22",
        "colab_type": "code",
        "colab": {
          "base_uri": "https://localhost:8080/",
          "height": 34
        },
        "outputId": "a272ed5c-715b-4ce1-b498-e91d66d4b809"
      },
      "source": [
        "url = \"https://en.m.wikipedia.org/wiki/Template:COVID-19_pandemic_data/India/Tamil_Nadu_medical_cases_by_district\"\n",
        "source = requests.get(url).text\n",
        "print('Done')"
      ],
      "execution_count": 3,
      "outputs": [
        {
          "output_type": "stream",
          "text": [
            "Done\n"
          ],
          "name": "stdout"
        }
      ]
    },
    {
      "cell_type": "markdown",
      "metadata": {
        "id": "Q3X50bQ_CxSO",
        "colab_type": "text"
      },
      "source": [
        "**Extracting Table contents using BeautifulSoup!**"
      ]
    },
    {
      "cell_type": "code",
      "metadata": {
        "id": "EXnSYXd8Cukf",
        "colab_type": "code",
        "colab": {}
      },
      "source": [
        "soup = BeautifulSoup(source,\"html.parser\")\n",
        "table=soup.find('table')\n",
        "#table"
      ],
      "execution_count": 4,
      "outputs": []
    },
    {
      "cell_type": "markdown",
      "metadata": {
        "id": "tY-54RNZDAxl",
        "colab_type": "text"
      },
      "source": [
        "**Creating Columns for pandemic data**"
      ]
    },
    {
      "cell_type": "code",
      "metadata": {
        "id": "rJnp2HZzDHr0",
        "colab_type": "code",
        "colab": {
          "base_uri": "https://localhost:8080/",
          "height": 68
        },
        "outputId": "99ddb9d0-4613-4f97-8791-0db2e63696f1"
      },
      "source": [
        "column_names = ['District','Diagnosed cases','Deaths','Recovered cases','Active cases','Population','Cases per M','Last case reported on']\n",
        "df = pd.DataFrame(columns = column_names)\n",
        "df.columns"
      ],
      "execution_count": 5,
      "outputs": [
        {
          "output_type": "execute_result",
          "data": {
            "text/plain": [
              "Index(['District', 'Diagnosed cases', 'Deaths', 'Recovered cases',\n",
              "       'Active cases', 'Population', 'Cases per M', 'Last case reported on'],\n",
              "      dtype='object')"
            ]
          },
          "metadata": {
            "tags": []
          },
          "execution_count": 5
        }
      ]
    },
    {
      "cell_type": "markdown",
      "metadata": {
        "id": "TMrlEtX2DX5X",
        "colab_type": "text"
      },
      "source": [
        "**Retriving table Information from web**"
      ]
    },
    {
      "cell_type": "code",
      "metadata": {
        "id": "s4f28VcEDgvu",
        "colab_type": "code",
        "colab": {}
      },
      "source": [
        "for row_cell in table.find_all('tr'):\n",
        "    row=[]\n",
        "    for data_cell in row_cell.find_all('th'):\n",
        "        row.append(data_cell.text.strip())\n",
        "        for data_cell in row_cell.find_all('td'):\n",
        "          row.append(data_cell.text.strip())\n",
        "    if len(row)==8:\n",
        "        df.loc[len(df)]=row"
      ],
      "execution_count": 6,
      "outputs": []
    },
    {
      "cell_type": "markdown",
      "metadata": {
        "id": "VL-1fVxLDrKz",
        "colab_type": "text"
      },
      "source": [
        "**Viewing Data Frame contents**"
      ]
    },
    {
      "cell_type": "code",
      "metadata": {
        "id": "ByyTA1LBDx_D",
        "colab_type": "code",
        "colab": {
          "base_uri": "https://localhost:8080/",
          "height": 204
        },
        "outputId": "a8bef688-6e0a-442c-c817-fdf882b9fbe8"
      },
      "source": [
        "df.head()"
      ],
      "execution_count": 6,
      "outputs": [
        {
          "output_type": "execute_result",
          "data": {
            "text/html": [
              "<div>\n",
              "<style scoped>\n",
              "    .dataframe tbody tr th:only-of-type {\n",
              "        vertical-align: middle;\n",
              "    }\n",
              "\n",
              "    .dataframe tbody tr th {\n",
              "        vertical-align: top;\n",
              "    }\n",
              "\n",
              "    .dataframe thead th {\n",
              "        text-align: right;\n",
              "    }\n",
              "</style>\n",
              "<table border=\"1\" class=\"dataframe\">\n",
              "  <thead>\n",
              "    <tr style=\"text-align: right;\">\n",
              "      <th></th>\n",
              "      <th>District</th>\n",
              "      <th>Diagnosed cases</th>\n",
              "      <th>Deaths</th>\n",
              "      <th>Recovered cases</th>\n",
              "      <th>Active cases</th>\n",
              "      <th>Population</th>\n",
              "      <th>Cases per M</th>\n",
              "      <th>Last case reported on</th>\n",
              "    </tr>\n",
              "  </thead>\n",
              "  <tbody>\n",
              "    <tr>\n",
              "      <th>0</th>\n",
              "      <td>District</td>\n",
              "      <td>Diagnosed cases[a]</td>\n",
              "      <td>Deaths</td>\n",
              "      <td>Recovered cases</td>\n",
              "      <td>Active cases[b]</td>\n",
              "      <td>Population[1]</td>\n",
              "      <td>Cases per M</td>\n",
              "      <td>Last case reported on</td>\n",
              "    </tr>\n",
              "    <tr>\n",
              "      <th>1</th>\n",
              "      <td>Tamil Nadu</td>\n",
              "      <td>147,324</td>\n",
              "      <td>2,099</td>\n",
              "      <td>97,310</td>\n",
              "      <td>47,912</td>\n",
              "      <td>71,875,403</td>\n",
              "      <td>2,050</td>\n",
              "      <td>14 July 2020</td>\n",
              "    </tr>\n",
              "    <tr>\n",
              "      <th>2</th>\n",
              "      <td>Ariyalur</td>\n",
              "      <td>542</td>\n",
              "      <td>1</td>\n",
              "      <td>468</td>\n",
              "      <td>73</td>\n",
              "      <td>754,894</td>\n",
              "      <td>718</td>\n",
              "      <td>14 July 2020</td>\n",
              "    </tr>\n",
              "    <tr>\n",
              "      <th>3</th>\n",
              "      <td>Chengalpattu</td>\n",
              "      <td>8,553</td>\n",
              "      <td>169</td>\n",
              "      <td>5,695</td>\n",
              "      <td>2,689</td>\n",
              "      <td>2,556,244</td>\n",
              "      <td>3,346</td>\n",
              "      <td>14 July 2020</td>\n",
              "    </tr>\n",
              "    <tr>\n",
              "      <th>4</th>\n",
              "      <td>Chennai</td>\n",
              "      <td>79,662</td>\n",
              "      <td>1,295</td>\n",
              "      <td>62,552</td>\n",
              "      <td>15,815</td>\n",
              "      <td>4,646,732</td>\n",
              "      <td>17,144</td>\n",
              "      <td>14 July 2020</td>\n",
              "    </tr>\n",
              "  </tbody>\n",
              "</table>\n",
              "</div>"
            ],
            "text/plain": [
              "       District     Diagnosed cases  ...  Cases per M  Last case reported on\n",
              "0      District  Diagnosed cases[a]  ...  Cases per M  Last case reported on\n",
              "1    Tamil Nadu             147,324  ...        2,050           14 July 2020\n",
              "2      Ariyalur                 542  ...          718           14 July 2020\n",
              "3  Chengalpattu               8,553  ...        3,346           14 July 2020\n",
              "4       Chennai              79,662  ...       17,144           14 July 2020\n",
              "\n",
              "[5 rows x 8 columns]"
            ]
          },
          "metadata": {
            "tags": []
          },
          "execution_count": 6
        }
      ]
    },
    {
      "cell_type": "markdown",
      "metadata": {
        "id": "mDCgjlJ7EAVW",
        "colab_type": "text"
      },
      "source": [
        "Data Cleaning- Removing unnecessary rows and comma's for numerical data"
      ]
    },
    {
      "cell_type": "code",
      "metadata": {
        "id": "FPSoKt6AEAkn",
        "colab_type": "code",
        "colab": {
          "base_uri": "https://localhost:8080/",
          "height": 204
        },
        "outputId": "d00241da-b1dc-4464-df12-289b8cc1c87b"
      },
      "source": [
        "cases_dt = df.iloc[3:]\n",
        "cases_dt=cases_dt.reset_index(drop=True)\n",
        "cases_dt.head()"
      ],
      "execution_count": 7,
      "outputs": [
        {
          "output_type": "execute_result",
          "data": {
            "text/html": [
              "<div>\n",
              "<style scoped>\n",
              "    .dataframe tbody tr th:only-of-type {\n",
              "        vertical-align: middle;\n",
              "    }\n",
              "\n",
              "    .dataframe tbody tr th {\n",
              "        vertical-align: top;\n",
              "    }\n",
              "\n",
              "    .dataframe thead th {\n",
              "        text-align: right;\n",
              "    }\n",
              "</style>\n",
              "<table border=\"1\" class=\"dataframe\">\n",
              "  <thead>\n",
              "    <tr style=\"text-align: right;\">\n",
              "      <th></th>\n",
              "      <th>District</th>\n",
              "      <th>Diagnosed cases</th>\n",
              "      <th>Deaths</th>\n",
              "      <th>Recovered cases</th>\n",
              "      <th>Active cases</th>\n",
              "      <th>Population</th>\n",
              "      <th>Cases per M</th>\n",
              "      <th>Last case reported on</th>\n",
              "    </tr>\n",
              "  </thead>\n",
              "  <tbody>\n",
              "    <tr>\n",
              "      <th>0</th>\n",
              "      <td>Chengalpattu</td>\n",
              "      <td>8,553</td>\n",
              "      <td>169</td>\n",
              "      <td>5,695</td>\n",
              "      <td>2,689</td>\n",
              "      <td>2,556,244</td>\n",
              "      <td>3,346</td>\n",
              "      <td>14 July 2020</td>\n",
              "    </tr>\n",
              "    <tr>\n",
              "      <th>1</th>\n",
              "      <td>Chennai</td>\n",
              "      <td>79,662</td>\n",
              "      <td>1,295</td>\n",
              "      <td>62,552</td>\n",
              "      <td>15,815</td>\n",
              "      <td>4,646,732</td>\n",
              "      <td>17,144</td>\n",
              "      <td>14 July 2020</td>\n",
              "    </tr>\n",
              "    <tr>\n",
              "      <th>2</th>\n",
              "      <td>Coimbatore</td>\n",
              "      <td>1,480</td>\n",
              "      <td>10</td>\n",
              "      <td>338</td>\n",
              "      <td>1,132</td>\n",
              "      <td>3,458,045</td>\n",
              "      <td>428</td>\n",
              "      <td>14 July 2020</td>\n",
              "    </tr>\n",
              "    <tr>\n",
              "      <th>3</th>\n",
              "      <td>Cuddalore</td>\n",
              "      <td>1,565</td>\n",
              "      <td>6</td>\n",
              "      <td>1,154</td>\n",
              "      <td>405</td>\n",
              "      <td>2,605,914</td>\n",
              "      <td>601</td>\n",
              "      <td>14 July 2020</td>\n",
              "    </tr>\n",
              "    <tr>\n",
              "      <th>4</th>\n",
              "      <td>Dharmapuri</td>\n",
              "      <td>260</td>\n",
              "      <td>1</td>\n",
              "      <td>103</td>\n",
              "      <td>156</td>\n",
              "      <td>1,506,843</td>\n",
              "      <td>173</td>\n",
              "      <td>14 July 2020</td>\n",
              "    </tr>\n",
              "  </tbody>\n",
              "</table>\n",
              "</div>"
            ],
            "text/plain": [
              "       District Diagnosed cases  ... Cases per M Last case reported on\n",
              "0  Chengalpattu           8,553  ...       3,346          14 July 2020\n",
              "1       Chennai          79,662  ...      17,144          14 July 2020\n",
              "2    Coimbatore           1,480  ...         428          14 July 2020\n",
              "3     Cuddalore           1,565  ...         601          14 July 2020\n",
              "4    Dharmapuri             260  ...         173          14 July 2020\n",
              "\n",
              "[5 rows x 8 columns]"
            ]
          },
          "metadata": {
            "tags": []
          },
          "execution_count": 7
        }
      ]
    },
    {
      "cell_type": "markdown",
      "metadata": {
        "id": "PNvXENuihlPP",
        "colab_type": "text"
      },
      "source": [
        "**Removing unwanted characters from numeric columns**"
      ]
    },
    {
      "cell_type": "code",
      "metadata": {
        "id": "YnsCXj2KfmJV",
        "colab_type": "code",
        "colab": {}
      },
      "source": [
        "import re"
      ],
      "execution_count": 8,
      "outputs": []
    },
    {
      "cell_type": "code",
      "metadata": {
        "id": "3Dh4-xUWdBQG",
        "colab_type": "code",
        "colab": {}
      },
      "source": [
        "#cases_dt.iloc[13, cases_dt.columns.get_loc('Population')] = str('1,614,069')\n",
        "cases_dt['Diagnosed cases'].replace(regex=True, inplace=True, to_replace=r'[^0-9.\\-]', value=r'')\n",
        "cases_dt['Deaths'].replace(regex=True, inplace=True, to_replace=r'[^0-9.\\-]', value=r'')\n",
        "cases_dt['Recovered cases'].replace(regex=True, inplace=True, to_replace=r'[^0-9.\\-]', value=r'')\n",
        "cases_dt['Active cases'].replace(regex=True, inplace=True, to_replace=r'[^0-9.\\-]', value=r'')\n",
        "cases_dt['Population'].replace(regex=True, inplace=True, to_replace=r'[^0-9.\\-]', value=r'')\n",
        "cases_dt['Cases per M'].replace(regex=True, inplace=True, to_replace=r'[^0-9.\\-]', value=r'')"
      ],
      "execution_count": 9,
      "outputs": []
    },
    {
      "cell_type": "markdown",
      "metadata": {
        "id": "JrB1SS9qhxWv",
        "colab_type": "text"
      },
      "source": [
        "# **Convert required columns to number type**"
      ]
    },
    {
      "cell_type": "code",
      "metadata": {
        "id": "p6QWslIiEhwu",
        "colab_type": "code",
        "colab": {
          "base_uri": "https://localhost:8080/",
          "height": 35
        },
        "outputId": "42136a12-8bc7-4b52-a521-39291dca54d6"
      },
      "source": [
        "import locale\n",
        "from locale import atof\n",
        "locale.setlocale(locale.LC_NUMERIC, '')\n"
      ],
      "execution_count": 10,
      "outputs": [
        {
          "output_type": "execute_result",
          "data": {
            "application/vnd.google.colaboratory.intrinsic": {
              "type": "string"
            },
            "text/plain": [
              "'en_US.UTF-8'"
            ]
          },
          "metadata": {
            "tags": []
          },
          "execution_count": 10
        }
      ]
    },
    {
      "cell_type": "code",
      "metadata": {
        "id": "85v6qZ2fPfeB",
        "colab_type": "code",
        "colab": {}
      },
      "source": [
        "cases_dt[['Diagnosed cases', 'Deaths', 'Recovered cases','Active cases', 'Population', 'Cases per M']].applymap(atof)"
      ],
      "execution_count": null,
      "outputs": []
    },
    {
      "cell_type": "markdown",
      "metadata": {
        "id": "-NdKoazsrZ3H",
        "colab_type": "text"
      },
      "source": [
        "**Converting the Columns to INT**"
      ]
    },
    {
      "cell_type": "code",
      "metadata": {
        "id": "NzViC_EZjtFe",
        "colab_type": "code",
        "colab": {
          "base_uri": "https://localhost:8080/",
          "height": 170
        },
        "outputId": "d70eec32-2571-4c43-da10-244abb7cfc1c"
      },
      "source": [
        "cases_dt[['Diagnosed cases', 'Deaths', 'Recovered cases','Active cases', 'Population', 'Cases per M']] = cases_dt[['Diagnosed cases', 'Deaths', 'Recovered cases','Active cases', 'Population', 'Cases per M']].apply(pd.to_numeric) \n",
        "print(cases_dt.dtypes) "
      ],
      "execution_count": 12,
      "outputs": [
        {
          "output_type": "stream",
          "text": [
            "District                 object\n",
            "Diagnosed cases           int64\n",
            "Deaths                    int64\n",
            "Recovered cases           int64\n",
            "Active cases              int64\n",
            "Population                int64\n",
            "Cases per M               int64\n",
            "Last case reported on    object\n",
            "dtype: object\n"
          ],
          "name": "stdout"
        }
      ]
    },
    {
      "cell_type": "code",
      "metadata": {
        "id": "lThtykQEPuJE",
        "colab_type": "code",
        "colab": {
          "base_uri": "https://localhost:8080/",
          "height": 204
        },
        "outputId": "6ebcf4ab-f5df-4849-e5f8-8532c8a82564"
      },
      "source": [
        "cases_dt.head()"
      ],
      "execution_count": 13,
      "outputs": [
        {
          "output_type": "execute_result",
          "data": {
            "text/html": [
              "<div>\n",
              "<style scoped>\n",
              "    .dataframe tbody tr th:only-of-type {\n",
              "        vertical-align: middle;\n",
              "    }\n",
              "\n",
              "    .dataframe tbody tr th {\n",
              "        vertical-align: top;\n",
              "    }\n",
              "\n",
              "    .dataframe thead th {\n",
              "        text-align: right;\n",
              "    }\n",
              "</style>\n",
              "<table border=\"1\" class=\"dataframe\">\n",
              "  <thead>\n",
              "    <tr style=\"text-align: right;\">\n",
              "      <th></th>\n",
              "      <th>District</th>\n",
              "      <th>Diagnosed cases</th>\n",
              "      <th>Deaths</th>\n",
              "      <th>Recovered cases</th>\n",
              "      <th>Active cases</th>\n",
              "      <th>Population</th>\n",
              "      <th>Cases per M</th>\n",
              "      <th>Last case reported on</th>\n",
              "    </tr>\n",
              "  </thead>\n",
              "  <tbody>\n",
              "    <tr>\n",
              "      <th>0</th>\n",
              "      <td>Chengalpattu</td>\n",
              "      <td>8553</td>\n",
              "      <td>169</td>\n",
              "      <td>5695</td>\n",
              "      <td>2689</td>\n",
              "      <td>2556244</td>\n",
              "      <td>3346</td>\n",
              "      <td>14 July 2020</td>\n",
              "    </tr>\n",
              "    <tr>\n",
              "      <th>1</th>\n",
              "      <td>Chennai</td>\n",
              "      <td>79662</td>\n",
              "      <td>1295</td>\n",
              "      <td>62552</td>\n",
              "      <td>15815</td>\n",
              "      <td>4646732</td>\n",
              "      <td>17144</td>\n",
              "      <td>14 July 2020</td>\n",
              "    </tr>\n",
              "    <tr>\n",
              "      <th>2</th>\n",
              "      <td>Coimbatore</td>\n",
              "      <td>1480</td>\n",
              "      <td>10</td>\n",
              "      <td>338</td>\n",
              "      <td>1132</td>\n",
              "      <td>3458045</td>\n",
              "      <td>428</td>\n",
              "      <td>14 July 2020</td>\n",
              "    </tr>\n",
              "    <tr>\n",
              "      <th>3</th>\n",
              "      <td>Cuddalore</td>\n",
              "      <td>1565</td>\n",
              "      <td>6</td>\n",
              "      <td>1154</td>\n",
              "      <td>405</td>\n",
              "      <td>2605914</td>\n",
              "      <td>601</td>\n",
              "      <td>14 July 2020</td>\n",
              "    </tr>\n",
              "    <tr>\n",
              "      <th>4</th>\n",
              "      <td>Dharmapuri</td>\n",
              "      <td>260</td>\n",
              "      <td>1</td>\n",
              "      <td>103</td>\n",
              "      <td>156</td>\n",
              "      <td>1506843</td>\n",
              "      <td>173</td>\n",
              "      <td>14 July 2020</td>\n",
              "    </tr>\n",
              "  </tbody>\n",
              "</table>\n",
              "</div>"
            ],
            "text/plain": [
              "       District  Diagnosed cases  ...  Cases per M  Last case reported on\n",
              "0  Chengalpattu             8553  ...         3346           14 July 2020\n",
              "1       Chennai            79662  ...        17144           14 July 2020\n",
              "2    Coimbatore             1480  ...          428           14 July 2020\n",
              "3     Cuddalore             1565  ...          601           14 July 2020\n",
              "4    Dharmapuri              260  ...          173           14 July 2020\n",
              "\n",
              "[5 rows x 8 columns]"
            ]
          },
          "metadata": {
            "tags": []
          },
          "execution_count": 13
        }
      ]
    },
    {
      "cell_type": "markdown",
      "metadata": {
        "id": "iSQ3u6fhhKzY",
        "colab_type": "text"
      },
      "source": [
        "# **Bar Chart**"
      ]
    },
    {
      "cell_type": "code",
      "metadata": {
        "id": "mOTM9l5TlEj6",
        "colab_type": "code",
        "colab": {
          "base_uri": "https://localhost:8080/",
          "height": 331
        },
        "outputId": "de2e80bb-8326-40f5-f4dd-c45b9f93f2bf"
      },
      "source": [
        "df = pd.DataFrame({'Deaths': cases_dt['Deaths'][:10].tolist(),'Active cases': cases_dt['Active cases'][:10].tolist(),'Cases per M': cases_dt['Cases per M'][:10].tolist()} , index=cases_dt['District'][:10].tolist())\n",
        "df.head()\n",
        "ax = df.plot.bar()"
      ],
      "execution_count": 14,
      "outputs": [
        {
          "output_type": "display_data",
          "data": {
            "image/png": "[encoded data removed]",
            "text/plain": [
              "<Figure size 432x288 with 1 Axes>"
            ]
          },
          "metadata": {
            "tags": [],
            "needs_background": "light"
          }
        }
      ]
    },
    {
      "cell_type": "markdown",
      "metadata": {
        "id": "7Ck5PuVDJ_LG",
        "colab_type": "text"
      },
      "source": [
        "**Heat Map**"
      ]
    },
    {
      "cell_type": "code",
      "metadata": {
        "id": "ZIm2Ri9AKaO-",
        "colab_type": "code",
        "colab": {
          "base_uri": "https://localhost:8080/",
          "height": 71
        },
        "outputId": "7040acea-009b-466f-8195-98ac7cbb2564"
      },
      "source": [
        "import seaborn as sns\n",
        "from sklearn import preprocessing\n"
      ],
      "execution_count": 15,
      "outputs": [
        {
          "output_type": "stream",
          "text": [
            "/usr/local/lib/python3.6/dist-packages/statsmodels/tools/_testing.py:19: FutureWarning: pandas.util.testing is deprecated. Use the functions in the public API at pandas.testing instead.\n",
            "  import pandas.util.testing as tm\n"
          ],
          "name": "stderr"
        }
      ]
    },
    {
      "cell_type": "code",
      "metadata": {
        "id": "v1v8YZ3dKBVr",
        "colab_type": "code",
        "colab": {
          "base_uri": "https://localhost:8080/",
          "height": 361
        },
        "outputId": "e38780a7-56a6-4171-d50e-a24dfa37712e"
      },
      "source": [
        "cases_heatmap=cases_dt[['Diagnosed cases', 'Deaths', 'Recovered cases','Active cases', 'Population', 'Cases per M']] #Subsetting the data\n",
        "normalized_cases = preprocessing.normalize(cases_heatmap)\n",
        "cor = cases_heatmap.corr() #Calculate the correlation of the above variables\n",
        "cor.head()\n",
        "sns.heatmap(cases_heatmap.corr(), square = True) #Plot the correlation as heat map\n",
        "#cases_heatmap.head(40)\n",
        "\n",
        "#normalized_cases"
      ],
      "execution_count": 16,
      "outputs": [
        {
          "output_type": "execute_result",
          "data": {
            "text/plain": [
              "<matplotlib.axes._subplots.AxesSubplot at 0x7facb2d177b8>"
            ]
          },
          "metadata": {
            "tags": []
          },
          "execution_count": 16
        },
        {
          "output_type": "display_data",
          "data": {
            "image/png": "[encoded data removed]",
            "text/plain": [
              "<Figure size 432x288 with 2 Axes>"
            ]
          },
          "metadata": {
            "tags": [],
            "needs_background": "light"
          }
        }
      ]
    },
    {
      "cell_type": "markdown",
      "metadata": {
        "id": "XMNJ3Pn8jQbY",
        "colab_type": "text"
      },
      "source": [
        "##**Latitude and Longitude Data of TN Districts**"
      ]
    },
    {
      "cell_type": "code",
      "metadata": {
        "id": "JUPB4uoguq7x",
        "colab_type": "code",
        "colab": {
          "resources": {
            "http://localhost:8080/nbextensions/google.colab/files.js": {
              "data": "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",
              "ok": true,
              "headers": [
                [
                  "content-type",
                  "application/javascript"
                ]
              ],
              "status": 200,
              "status_text": ""
            }
          },
          "base_uri": "https://localhost:8080/",
          "height": 109
        },
        "outputId": "ed635b5f-2781-4b0b-efd9-48874df793a3"
      },
      "source": [
        "from google.colab import files\n",
        "files.upload()"
      ],
      "execution_count": 17,
      "outputs": [
        {
          "output_type": "display_data",
          "data": {
            "text/html": [
              "\n",
              "     <input type=\"file\" id=\"files-dbe4c824-532f-410e-b00e-8bb8d0fd6666\" name=\"files[]\" multiple disabled\n",
              "        style=\"border:none\" />\n",
              "     <output id=\"result-dbe4c824-532f-410e-b00e-8bb8d0fd6666\">\n",
              "      Upload widget is only available when the cell has been executed in the\n",
              "      current browser session. Please rerun this cell to enable.\n",
              "      </output>\n",
              "      <script src=\"/nbextensions/google.colab/files.js\"></script> "
            ],
            "text/plain": [
              "<IPython.core.display.HTML object>"
            ]
          },
          "metadata": {
            "tags": []
          }
        },
        {
          "output_type": "stream",
          "text": [
            "Saving TN Lat Lon12.csv to TN Lat Lon12.csv\n"
          ],
          "name": "stdout"
        },
        {
          "output_type": "execute_result",
          "data": {
            "text/plain": [
              "{'TN Lat Lon12.csv': b'Active,Location,Latitude,Longitude\\r\\n1,Ariyalur,11\\xb0 8\\' N,79\\xb0 4\\' E\\r\\n1,Chengalpattu,12\\xb0 42\\' N,80\\xb0 01\\' E\\r\\n1,Chennai,13\\xb0 04\\' N,80\\xb0 17\\' E\\r\\n1,Coimbatore,11\\xb0 00\\' N,77\\xb0 00\\' E\\r\\n1,Cuddalore,11\\xb0 43\\' N,79\\xb0 49\\' E\\r\\n1,Dharmapuri,12\\xb0 08\\' N,78\\xb0 13\\' E\\r\\n1,Dindigul,10\\xb0 22\\' N,78\\xb0 00\\' E\\r\\n1,Erode,11\\xb0 20\\' N,77\\xb0 46\\' E\\r\\n1,Kallakurichi,11\\xb0 44\\' N,78\\xb0 57\\' E\\r\\n1,Kancheepuram,12\\xb0 50\\' N,79\\xb0 45\\' E\\r\\n1,Kanyakumari,8\\xb0 5\\' N,77\\xb0 32\\' E\\r\\n1,Karur,10\\xb0 58\\' N,78\\xb0 07\\' E\\r\\n1,Krishnagiri,12\\xb0 32\\' N,78\\xb0 16\\' E\\r\\n1,Madurai,9\\xb0 58\\' N,78\\xb0 10\\' E\\r\\n1,Nagapattinam[c],10\\xb0 50\\' N,79\\xb0 44\\' E\\r\\n1,Namakkal,11\\xb0 13 \\' N,78\\xb0 13\\' E\\r\\n1,Nilgiris,11\\xb0 29\\' N,76\\xb0 44\\' E\\r\\n1,Perambalur,11\\xb0 14\\' N,78\\xb0 56 \\' E\\r\\n1,Pudukkottai,10\\xb0 23\\' N,78\\xb0 52 \\' E\\r\\n1,Ramanathapuram,9\\xb0 22\\' N,78\\xb0 52 \\' E\\r\\n1,Ranipet,12\\xb0 55\\' N,79\\xb0 20\\' E\\r\\n1,Salem,11\\xb0 39\\' N,78\\xb0 12 \\' E\\r\\n1,Sivagangai,9\\xb0 52\\' N,78\\xb0 28\\' E\\r\\n1,Tenkasi,8\\xb0 58\\' N,77\\xb0 21\\' E\\r\\n1,Thanjavur,10\\xb0 47\\' N,79\\xb0 10\\' E\\r\\n1,Theni,10\\xb0 0\\' N,77\\xb0 28\\' E\\r\\n1,Thoothukudi,8\\xb0 48\\' N,78\\xb0 11\\' E\\r\\n1,Tiruchirappalli,10\\xb0 50\\' N,78\\xb0 46\\' E\\r\\n1,Tirunelveli,8\\xb0 44\\' N,77\\xb0 44\\' E\\r\\n1,Tirupattur,12\\xb0 29\\' N,78\\xb0 33\\' E\\r\\n1,Tiruppur,11\\xb0 05\\' N,77\\xb0 20\\' E\\r\\n1,Tiruvallur,13\\xb0 09\\' N,79\\xb0 57\\' E\\r\\n1,Tiruvannamalai,12\\xb0 15\\' N,79\\xb0 07\\' E\\r\\n1,Tiruvarur,10\\xb0 46\\' N ,79\\xb0 38\\' E\\r\\n1,Vellore,12\\xb0 55\\' N,79\\xb0 11\\' E\\r\\n1,Villuppuram,11\\xb0 57\\' N,79\\xb0 32\\' E\\r\\n1,Virudhunagar,9\\xb0 35\\' N,77\\xb0 57\\' E\\r\\n0,Adirampattinam,10\\xb0 21\\' N,79\\xb0 25\\' E\\r\\n0,Ambasamudram,8\\xb0 43\\' N,77\\xb0 29\\' E\\r\\n0,Ambur,21\\xb0 50\\' N,78\\xb0 45\\' E\\r\\n0,Anaimalai Hills,10\\xb0 24\\' N,76\\xb0 40\\' E\\r\\n0,Arakkonam,13\\xb0 05\\' N,79\\xb0 43\\' E\\r\\n0,Arantangi,10\\xb0 10\\' N,79\\xb0 02\\' E\\r\\n0,Arcot,12\\xb0 56\\' N,79\\xb0 24\\' E\\r\\n0,Arni,12\\xb0 40\\' N,79\\xb0 19\\' E\\r\\n0,Aruppukkotai,9\\xb0 31\\' N,78\\xb0 08\\' E\\r\\n0,Attur,11\\xb0 36\\' N,78\\xb0 39\\' E\\r\\n0,Atur,10\\xb0 16\\' N,77\\xb0 53\\' E\\r\\n0,Bodinayakkanur,10\\xb0 01\\' N,77\\xb0 24\\' E\\r\\n0,\"Calimere, Point\",10\\xb0 18\\' N,79\\xb0 52\\' E\\r\\n0,Carnatic,12\\xb0 00\\' N,80\\xb0 00\\' E\\r\\n0,Chidambaram,11\\xb0 24\\' N,79\\xb0 44\\' E\\r\\n0,\"Comorin, C.\",8\\xb0 04\\' N,77\\xb0 36\\' E\\r\\n0,Coromandel Coast,12\\xb0 00\\' N,80\\xb0 30\\' E\\r\\n0,Devakottai,9\\xb0 57\\' N,78\\xb0 53\\' E\\r\\n0,Dhanushkodi,9\\xb0 10\\' N,79\\xb0 28\\' E\\r\\n0,Dharapuram,10\\xb0 45\\' N,77\\xb0 34\\' E\\r\\n0,Dodabetta. Mt.,11\\xb0 25\\' N,76\\xb0 46\\' E\\r\\n0,Ennore,13\\xb0 14\\' N,80\\xb0 22\\' E\\r\\n0,Fort St David,11\\xb0 45\\' N,79\\xb0 50\\' E\\r\\n0,Fort St George,13\\xb0 04\\' N,80\\xb0 17\\' E\\r\\n0,Gudiyatam,12\\xb0 57\\' N,78\\xb0 55\\' E\\r\\n0,Hospur,12\\xb0 44\\' N,77\\xb0 52\\' E\\r\\n0,Jalarpet,12\\xb0 34\\' N,78\\xb0 37\\' E\\r\\n0,Javadi hills,12\\xb0 40\\' N,78\\xb0 40\\' E\\r\\n0,Kaveri R.,11\\xb0 20\\' N,77\\xb0 50\\' E\\r\\n0,Kayalpatnam,8\\xb0 34\\' N,78\\xb0 10\\' E\\r\\n0,Kilakarai,9\\xb0 14\\' N,78\\xb0 50\\' E\\r\\n0,Kodaikanal,10\\xb0 13\\' N,77\\xb0 32\\' E\\r\\n0,Kumbakonam,10\\xb0 58\\' N,79\\xb0 25\\' E\\r\\n0,Madurantakam,12\\xb0 30\\' N,79\\xb0 56\\' E\\r\\n0,Mahabalipuram,12\\xb0 37\\' N,80\\xb0 14\\' E\\r\\n0,Mannargudi,10\\xb0 40\\' N,79\\xb0 29\\' E\\r\\n0,Mayuram,11\\xb0 06\\' N,79\\xb0 42\\' E\\r\\n0,Mettupalaiyam,11\\xb0 18\\' N,76\\xb0 59\\' E\\r\\n0,Mettur Dam,11\\xb0 52\\' N,77\\xb0 50\\' E\\r\\n0,Nagarjunasagar Dam,16\\xb0 50\\' N,79\\xb0 20\\' E\\r\\n0,Nagercoil,8\\xb0 11\\' N,77\\xb0 29\\' E\\r\\n0,Nanguneri,8\\xb0 29\\' N,77\\xb0 44\\' E\\r\\n0,Neiveli,10\\xb0 31\\' N,79\\xb0 24\\' E\\r\\n0,Pachaimalai Hills,11\\xb0 15\\' N,78\\xb0 3 \\' E\\r\\n0,Padmanabhapuram,9\\xb0 06\\' N,76\\xb0 5 \\' E\\r\\n0,Palayankottal,8\\xb0 43\\' N,77\\xb0 46 \\' E\\r\\n0,Palladam,10\\xb0 59\\' N,77\\xb0 2 \\' E\\r\\n0,Pallavaram,12\\xb0 58\\' N,80\\xb0 13 \\' E\\r\\n0,Pallivasal,9\\xb0 55\\' N,77\\xb000\\' E\\r\\n0,Palni Hills,10\\xb0 00\\' N,77\\xb0 00\\' E\\r\\n0,Panruti,11\\xb0 47\\' N,79\\xb0 35 \\' E\\r\\n0,Paramakkudi,9\\xb0 31\\' N,78\\xb0 39 \\' E\\r\\n0,Pattukkottal,10\\xb0 26\\' N,79\\xb0 22 \\' E\\r\\n0,Periyakulam,10\\xb0 07\\' N,77\\xb0 35 \\' E\\r\\n0,Pollachi,10\\xb0 39\\' N,77\\xb0 03 \\' E\\r\\n0,Ponneri,13\\xb0 2\\' N,80\\xb0 15 \\' E\\r\\n0,Porto Novo,11\\xb0 3\\' N,79\\xb0 48 \\' E\\r\\n0,\"Pulicat, L.\",13\\xb0 25\\' N,80\\xb0 21 \\' E\\r\\n0,Rajapalayam,9\\xb0 27\\' N,77\\xb0 36 \\' E\\r\\n0,Rameswaram,9\\xb0 17\\' N,79\\xb0 22 \\' E\\r\\n0,Sankaranayinarkovil,9\\xb0 1\\' N,77\\xb0 35 \\' E\\r\\n0,Sattur,9\\xb0 21\\' N,77\\xb0 58 \\' E\\r\\n0,Satyamangalam,11\\xb0 3\\' N,77\\xb0 17 \\' E\\r\\n0,Seven Pagodas,12\\xb0 37\\' N,80\\xb0 14 \\' E\\r\\n0,shencottah,8\\xb0 59\\' N,77\\xb0 18 \\' E\\r\\n0,Tindivanam,12\\xb0 14\\' N,79\\xb0 42\\' E\\r\\n0,Tiruchendur,8\\xb0 30\\' N,78\\xb0 11\\' E\\r\\n0,Tiruchengodu,11\\xb0 23\\' N,77\\xb0 56\\' E\\r\\n0,Tirukkoyilur,11\\xb0 58\\' N,79\\xb0 15\\' E\\r\\n0,Tirumangalam,9\\xb0 49\\' N,79\\xb0 01\\' E\\r\\n0,Tondi,9\\xb0 45\\' N,79\\xb0 04\\' E\\r\\n0,Tranquebar,11\\xb0 01\\' N,79\\xb0 54\\' E\\r\\n0,Turaiyur,11\\xb0 09\\' N,78\\xb0 38\\' E\\r\\n0,Udagamandalam,11\\xb0 24\\' N,76\\xb0 44\\' E\\r\\n0,Udamalpet,10\\xb0 36\\' N,77\\xb0 17\\' E\\r\\n0,Udiyarpalaiyam,11\\xb0 11\\' N,79\\xb0 20\\' E\\r\\n0,Uttangarai,12\\xb0 16\\' N,78\\xb0 35\\' E\\r\\n0,Vaniyambadi,12\\xb0 41\\' N,78\\xb0 39\\' E\\r\\n0,Vriddhachalam,11\\xb0 32\\' N,79\\xb0 24\\' E\\r\\n0,Wandiwash,12\\xb0 30\\' N,79\\xb0 30\\' E\\r\\n0,Yercaud,11\\xb0 48\\' N,78\\xb0 13\\' E\\r\\n'}"
            ]
          },
          "metadata": {
            "tags": []
          },
          "execution_count": 17
        }
      ]
    },
    {
      "cell_type": "markdown",
      "metadata": {
        "id": "eqiD7f1avYi0",
        "colab_type": "text"
      },
      "source": [
        "**Importing latitude and Longitude of TN Districts**"
      ]
    },
    {
      "cell_type": "code",
      "metadata": {
        "id": "dyv4yKCQu5DQ",
        "colab_type": "code",
        "colab": {}
      },
      "source": [
        "import pandas as pd\n",
        "Lat_Long_TN = pd.read_csv('TN Lat Lon12.csv', encoding= 'unicode_escape')"
      ],
      "execution_count": 18,
      "outputs": []
    },
    {
      "cell_type": "markdown",
      "metadata": {
        "id": "F9b1VvEbvq6_",
        "colab_type": "text"
      },
      "source": [
        "View the TN dataset (Contains DMS coordinates)"
      ]
    },
    {
      "cell_type": "code",
      "metadata": {
        "id": "Zc6ManHlvBLf",
        "colab_type": "code",
        "colab": {
          "base_uri": "https://localhost:8080/",
          "height": 419
        },
        "outputId": "8c0d2907-66b4-4d86-9f65-f69b8942c741"
      },
      "source": [
        "Lat_Long_TN.head(100)"
      ],
      "execution_count": 19,
      "outputs": [
        {
          "output_type": "execute_result",
          "data": {
            "text/html": [
              "<div>\n",
              "<style scoped>\n",
              "    .dataframe tbody tr th:only-of-type {\n",
              "        vertical-align: middle;\n",
              "    }\n",
              "\n",
              "    .dataframe tbody tr th {\n",
              "        vertical-align: top;\n",
              "    }\n",
              "\n",
              "    .dataframe thead th {\n",
              "        text-align: right;\n",
              "    }\n",
              "</style>\n",
              "<table border=\"1\" class=\"dataframe\">\n",
              "  <thead>\n",
              "    <tr style=\"text-align: right;\">\n",
              "      <th></th>\n",
              "      <th>Active</th>\n",
              "      <th>Location</th>\n",
              "      <th>Latitude</th>\n",
              "      <th>Longitude</th>\n",
              "    </tr>\n",
              "  </thead>\n",
              "  <tbody>\n",
              "    <tr>\n",
              "      <th>0</th>\n",
              "      <td>1</td>\n",
              "      <td>Ariyalur</td>\n",
              "      <td>11° 8' N</td>\n",
              "      <td>79° 4' E</td>\n",
              "    </tr>\n",
              "    <tr>\n",
              "      <th>1</th>\n",
              "      <td>1</td>\n",
              "      <td>Chengalpattu</td>\n",
              "      <td>12° 42' N</td>\n",
              "      <td>80° 01' E</td>\n",
              "    </tr>\n",
              "    <tr>\n",
              "      <th>2</th>\n",
              "      <td>1</td>\n",
              "      <td>Chennai</td>\n",
              "      <td>13° 04' N</td>\n",
              "      <td>80° 17' E</td>\n",
              "    </tr>\n",
              "    <tr>\n",
              "      <th>3</th>\n",
              "      <td>1</td>\n",
              "      <td>Coimbatore</td>\n",
              "      <td>11° 00' N</td>\n",
              "      <td>77° 00' E</td>\n",
              "    </tr>\n",
              "    <tr>\n",
              "      <th>4</th>\n",
              "      <td>1</td>\n",
              "      <td>Cuddalore</td>\n",
              "      <td>11° 43' N</td>\n",
              "      <td>79° 49' E</td>\n",
              "    </tr>\n",
              "    <tr>\n",
              "      <th>...</th>\n",
              "      <td>...</td>\n",
              "      <td>...</td>\n",
              "      <td>...</td>\n",
              "      <td>...</td>\n",
              "    </tr>\n",
              "    <tr>\n",
              "      <th>95</th>\n",
              "      <td>0</td>\n",
              "      <td>Rajapalayam</td>\n",
              "      <td>9° 27' N</td>\n",
              "      <td>77° 36 ' E</td>\n",
              "    </tr>\n",
              "    <tr>\n",
              "      <th>96</th>\n",
              "      <td>0</td>\n",
              "      <td>Rameswaram</td>\n",
              "      <td>9° 17' N</td>\n",
              "      <td>79° 22 ' E</td>\n",
              "    </tr>\n",
              "    <tr>\n",
              "      <th>97</th>\n",
              "      <td>0</td>\n",
              "      <td>Sankaranayinarkovil</td>\n",
              "      <td>9° 1' N</td>\n",
              "      <td>77° 35 ' E</td>\n",
              "    </tr>\n",
              "    <tr>\n",
              "      <th>98</th>\n",
              "      <td>0</td>\n",
              "      <td>Sattur</td>\n",
              "      <td>9° 21' N</td>\n",
              "      <td>77° 58 ' E</td>\n",
              "    </tr>\n",
              "    <tr>\n",
              "      <th>99</th>\n",
              "      <td>0</td>\n",
              "      <td>Satyamangalam</td>\n",
              "      <td>11° 3' N</td>\n",
              "      <td>77° 17 ' E</td>\n",
              "    </tr>\n",
              "  </tbody>\n",
              "</table>\n",
              "<p>100 rows × 4 columns</p>\n",
              "</div>"
            ],
            "text/plain": [
              "    Active             Location   Latitude   Longitude\n",
              "0        1             Ariyalur   11° 8' N    79° 4' E\n",
              "1        1         Chengalpattu  12° 42' N   80° 01' E\n",
              "2        1              Chennai  13° 04' N   80° 17' E\n",
              "3        1           Coimbatore  11° 00' N   77° 00' E\n",
              "4        1            Cuddalore  11° 43' N   79° 49' E\n",
              "..     ...                  ...        ...         ...\n",
              "95       0          Rajapalayam   9° 27' N  77° 36 ' E\n",
              "96       0           Rameswaram   9° 17' N  79° 22 ' E\n",
              "97       0  Sankaranayinarkovil    9° 1' N  77° 35 ' E\n",
              "98       0               Sattur   9° 21' N  77° 58 ' E\n",
              "99       0        Satyamangalam   11° 3' N  77° 17 ' E\n",
              "\n",
              "[100 rows x 4 columns]"
            ]
          },
          "metadata": {
            "tags": []
          },
          "execution_count": 19
        }
      ]
    },
    {
      "cell_type": "markdown",
      "metadata": {
        "id": "AnHB74Rsv3ql",
        "colab_type": "text"
      },
      "source": [
        "**Convert DMS (degrees-minutes-seconds) to DD (decimal degrees) Coordinates**"
      ]
    },
    {
      "cell_type": "code",
      "metadata": {
        "id": "jLPuAbMqxJgr",
        "colab_type": "code",
        "colab": {}
      },
      "source": [
        "import re"
      ],
      "execution_count": 20,
      "outputs": []
    },
    {
      "cell_type": "code",
      "metadata": {
        "id": "WXfl4T0ewbst",
        "colab_type": "code",
        "colab": {}
      },
      "source": [
        "def dms2dd(degrees, minutes, direction):\n",
        "    dd = float(degrees) + float(minutes)/60;\n",
        "    if direction == 'S' or direction == 'W':\n",
        "        dd *= -1\n",
        "    return dd;"
      ],
      "execution_count": 21,
      "outputs": []
    },
    {
      "cell_type": "code",
      "metadata": {
        "id": "llmxoxTxweCz",
        "colab_type": "code",
        "colab": {}
      },
      "source": [
        "def parse_dms(lat,lon):\n",
        "    lat_part = re.split('[^\\d\\w]+', lat)\n",
        "    lon_part = re.split('[^\\d\\w]+', lon)\n",
        "    \n",
        "    lati = dms2dd(lat_part[0], lat_part[1], lat_part[2])\n",
        "    lng = dms2dd(lon_part[0], lon_part[1], lon_part[2])\n",
        "    return (lati,lng)"
      ],
      "execution_count": 22,
      "outputs": []
    },
    {
      "cell_type": "markdown",
      "metadata": {
        "id": "S8ZnqUo-wh8T",
        "colab_type": "text"
      },
      "source": [
        "**Appending DD columns to the dataset**"
      ]
    },
    {
      "cell_type": "code",
      "metadata": {
        "id": "MAAnzslUw13o",
        "colab_type": "code",
        "colab": {}
      },
      "source": [
        "DD_Lat=[]\n",
        "DD_Lng=[]\n",
        "for i in range(len(Lat_Long_TN)):\n",
        "    #print(Lat_Long_TN.loc[i, 'Latitude'], Lat_Long_TN.loc[i, 'Longitude'])\n",
        "    latt=parse_dms(Lat_Long_TN.loc[i, 'Latitude'], Lat_Long_TN.loc[i, 'Longitude'])\n",
        "    DD_Lat.append(latt[0])\n",
        "    DD_Lng.append(latt[1])"
      ],
      "execution_count": 23,
      "outputs": []
    },
    {
      "cell_type": "code",
      "metadata": {
        "id": "7eOFxABSw4Qq",
        "colab_type": "code",
        "colab": {}
      },
      "source": [
        "Lat_Long_TN['DD_Lat']=DD_Lat\n",
        "Lat_Long_TN['DD_Lng']=DD_Lng"
      ],
      "execution_count": 24,
      "outputs": []
    },
    {
      "cell_type": "code",
      "metadata": {
        "id": "4qLdJidPw72J",
        "colab_type": "code",
        "colab": {
          "base_uri": "https://localhost:8080/",
          "height": 204
        },
        "outputId": "eef035c9-c220-440f-e49f-0b28aaa26ffc"
      },
      "source": [
        "Lat_Long_TN.head()"
      ],
      "execution_count": 25,
      "outputs": [
        {
          "output_type": "execute_result",
          "data": {
            "text/html": [
              "<div>\n",
              "<style scoped>\n",
              "    .dataframe tbody tr th:only-of-type {\n",
              "        vertical-align: middle;\n",
              "    }\n",
              "\n",
              "    .dataframe tbody tr th {\n",
              "        vertical-align: top;\n",
              "    }\n",
              "\n",
              "    .dataframe thead th {\n",
              "        text-align: right;\n",
              "    }\n",
              "</style>\n",
              "<table border=\"1\" class=\"dataframe\">\n",
              "  <thead>\n",
              "    <tr style=\"text-align: right;\">\n",
              "      <th></th>\n",
              "      <th>Active</th>\n",
              "      <th>Location</th>\n",
              "      <th>Latitude</th>\n",
              "      <th>Longitude</th>\n",
              "      <th>DD_Lat</th>\n",
              "      <th>DD_Lng</th>\n",
              "    </tr>\n",
              "  </thead>\n",
              "  <tbody>\n",
              "    <tr>\n",
              "      <th>0</th>\n",
              "      <td>1</td>\n",
              "      <td>Ariyalur</td>\n",
              "      <td>11° 8' N</td>\n",
              "      <td>79° 4' E</td>\n",
              "      <td>11.133333</td>\n",
              "      <td>79.066667</td>\n",
              "    </tr>\n",
              "    <tr>\n",
              "      <th>1</th>\n",
              "      <td>1</td>\n",
              "      <td>Chengalpattu</td>\n",
              "      <td>12° 42' N</td>\n",
              "      <td>80° 01' E</td>\n",
              "      <td>12.700000</td>\n",
              "      <td>80.016667</td>\n",
              "    </tr>\n",
              "    <tr>\n",
              "      <th>2</th>\n",
              "      <td>1</td>\n",
              "      <td>Chennai</td>\n",
              "      <td>13° 04' N</td>\n",
              "      <td>80° 17' E</td>\n",
              "      <td>13.066667</td>\n",
              "      <td>80.283333</td>\n",
              "    </tr>\n",
              "    <tr>\n",
              "      <th>3</th>\n",
              "      <td>1</td>\n",
              "      <td>Coimbatore</td>\n",
              "      <td>11° 00' N</td>\n",
              "      <td>77° 00' E</td>\n",
              "      <td>11.000000</td>\n",
              "      <td>77.000000</td>\n",
              "    </tr>\n",
              "    <tr>\n",
              "      <th>4</th>\n",
              "      <td>1</td>\n",
              "      <td>Cuddalore</td>\n",
              "      <td>11° 43' N</td>\n",
              "      <td>79° 49' E</td>\n",
              "      <td>11.716667</td>\n",
              "      <td>79.816667</td>\n",
              "    </tr>\n",
              "  </tbody>\n",
              "</table>\n",
              "</div>"
            ],
            "text/plain": [
              "   Active      Location   Latitude  Longitude     DD_Lat     DD_Lng\n",
              "0       1      Ariyalur   11° 8' N   79° 4' E  11.133333  79.066667\n",
              "1       1  Chengalpattu  12° 42' N  80° 01' E  12.700000  80.016667\n",
              "2       1       Chennai  13° 04' N  80° 17' E  13.066667  80.283333\n",
              "3       1    Coimbatore  11° 00' N  77° 00' E  11.000000  77.000000\n",
              "4       1     Cuddalore  11° 43' N  79° 49' E  11.716667  79.816667"
            ]
          },
          "metadata": {
            "tags": []
          },
          "execution_count": 25
        }
      ]
    },
    {
      "cell_type": "code",
      "metadata": {
        "id": "NOVPXmuHxY3b",
        "colab_type": "code",
        "colab": {
          "base_uri": "https://localhost:8080/",
          "height": 34
        },
        "outputId": "98acfcb7-4620-4676-a262-6e0d1b60e2e8"
      },
      "source": [
        "Lat_Long_TN.shape"
      ],
      "execution_count": 26,
      "outputs": [
        {
          "output_type": "execute_result",
          "data": {
            "text/plain": [
              "(118, 6)"
            ]
          },
          "metadata": {
            "tags": []
          },
          "execution_count": 26
        }
      ]
    },
    {
      "cell_type": "markdown",
      "metadata": {
        "id": "OpazyRUexnmL",
        "colab_type": "text"
      },
      "source": [
        "##**Problem 1: Finding Nearby Hospital Locations based on FourSquare API**"
      ]
    },
    {
      "cell_type": "markdown",
      "metadata": {
        "id": "LIkr2sPZx1Xa",
        "colab_type": "text"
      },
      "source": [
        "**FourSquare Credentials**"
      ]
    },
    {
      "cell_type": "code",
      "metadata": {
        "id": "vxEpNKwzxz6h",
        "colab_type": "code",
        "colab": {
          "base_uri": "https://localhost:8080/",
          "height": 85
        },
        "outputId": "6f02b486-7a39-4f7b-f2fd-90ac5dbcd01c"
      },
      "source": [
        "CLIENT_ID = 'WP3BIPKNJA0LQUKSCMNGUJRNGQASV1BB0M43R4LG234GTTJZ'# your Foursquare ID\n",
        "CLIENT_SECRET = 'HCH3MN350XFRQXETVDGFAQKNVZTE1HGQ2PYRIO2UK20IB41S' # your Foursquare Secret\n",
        "VERSION = '20180605' # Foursquare API version\n",
        "CATEGORY_ID = '4bf58dd8d48988d196941735' # CATEGORY_ID for Fetching Hospital Locations\n",
        "\n",
        "print('Your credentails:')\n",
        "print('CLIENT_ID: ' + CLIENT_ID)\n",
        "print('CLIENT_SECRET:' + CLIENT_SECRET)\n",
        "print('CATEGORY_ID:' + CATEGORY_ID)"
      ],
      "execution_count": 27,
      "outputs": [
        {
          "output_type": "stream",
          "text": [
            "Your credentails:\n",
            "CLIENT_ID: WP3BIPKNJA0LQUKSCMNGUJRNGQASV1BB0M43R4LG234GTTJZ\n",
            "CLIENT_SECRET:HCH3MN350XFRQXETVDGFAQKNVZTE1HGQ2PYRIO2UK20IB41S\n",
            "CATEGORY_ID:4bf58dd8d48988d196941735\n"
          ],
          "name": "stdout"
        }
      ]
    },
    {
      "cell_type": "markdown",
      "metadata": {
        "id": "lT3Q3Yx9yiDp",
        "colab_type": "text"
      },
      "source": [
        "**Finding Hospital Locations over a particular area in Chennai District**"
      ]
    },
    {
      "cell_type": "code",
      "metadata": {
        "id": "i_gIYUqey4uT",
        "colab_type": "code",
        "colab": {}
      },
      "source": [
        "from geopy.geocoders import Nominatim"
      ],
      "execution_count": 28,
      "outputs": []
    },
    {
      "cell_type": "code",
      "metadata": {
        "id": "AjnidTwFyrI5",
        "colab_type": "code",
        "colab": {
          "base_uri": "https://localhost:8080/",
          "height": 34
        },
        "outputId": "6bcc5697-3366-4551-aae2-6b4a040a074e"
      },
      "source": [
        "address = 'Alwarpet, Chennai, Tamilnadu'\n",
        "\n",
        "geolocator1 = Nominatim(user_agent=\"ny_explorer\")\n",
        "location1 = geolocator1.geocode(address)\n",
        "latitude1 = location1.latitude\n",
        "longitude1 = location1.longitude\n",
        "print('The geograpical coordinate of {} are {}, {}.'.format(address,latitude1, longitude1))"
      ],
      "execution_count": 29,
      "outputs": [
        {
          "output_type": "stream",
          "text": [
            "The geograpical coordinate of Alwarpet, Chennai, Tamilnadu are 13.0338602, 80.2545491.\n"
          ],
          "name": "stdout"
        }
      ]
    },
    {
      "cell_type": "markdown",
      "metadata": {
        "id": "MJuOqU4D3SQn",
        "colab_type": "text"
      },
      "source": [
        "**Setting radius to find hospitals within the radius (2000)**"
      ]
    },
    {
      "cell_type": "code",
      "metadata": {
        "id": "kiYQAT0i0GgU",
        "colab_type": "code",
        "colab": {
          "base_uri": "https://localhost:8080/",
          "height": 52
        },
        "outputId": "8cd2d6e2-71cf-4017-9810-cf468e952c8b"
      },
      "source": [
        "LIMIT = 100\n",
        "radius = 2000\n",
        "url = 'https://api.foursquare.com/v2/venues/explore?&categoryId={}&client_id={}&client_secret={}&v={}&ll={},{}&radius={}&limit={}'.format(\n",
        "    CATEGORY_ID,\n",
        "    CLIENT_ID, \n",
        "    CLIENT_SECRET, \n",
        "    VERSION, \n",
        "    latitude1, \n",
        "    longitude1, \n",
        "    radius, \n",
        "    LIMIT)\n",
        "url"
      ],
      "execution_count": 30,
      "outputs": [
        {
          "output_type": "execute_result",
          "data": {
            "application/vnd.google.colaboratory.intrinsic": {
              "type": "string"
            },
            "text/plain": [
              "'https://api.foursquare.com/v2/venues/explore?&categoryId=4bf58dd8d48988d196941735&client_id=WP3BIPKNJA0LQUKSCMNGUJRNGQASV1BB0M43R4LG234GTTJZ&client_secret=HCH3MN350XFRQXETVDGFAQKNVZTE1HGQ2PYRIO2UK20IB41S&v=20180605&ll=13.0338602,80.2545491&radius=2000&limit=100'"
            ]
          },
          "metadata": {
            "tags": []
          },
          "execution_count": 30
        }
      ]
    },
    {
      "cell_type": "markdown",
      "metadata": {
        "id": "zrEIdR5F63H8",
        "colab_type": "text"
      },
      "source": [
        "**Extracting Nearby Hospitals**"
      ]
    },
    {
      "cell_type": "code",
      "metadata": {
        "id": "N_5FWFn06_ln",
        "colab_type": "code",
        "colab": {}
      },
      "source": [
        "import requests\n",
        "import json\n",
        "from pandas.io.json import json_normalize"
      ],
      "execution_count": 31,
      "outputs": []
    },
    {
      "cell_type": "code",
      "metadata": {
        "id": "kF7Ytg1H7Epa",
        "colab_type": "code",
        "colab": {}
      },
      "source": [
        "results = requests.get(url).json()"
      ],
      "execution_count": 32,
      "outputs": []
    },
    {
      "cell_type": "code",
      "metadata": {
        "id": "KW5gZH0l7XUP",
        "colab_type": "code",
        "colab": {}
      },
      "source": [
        "def get_category_type(row):\n",
        "    try:\n",
        "        categories_list = row['categories']\n",
        "    except:\n",
        "        categories_list = row['venue.categories']\n",
        "        \n",
        "    if len(categories_list) == 0:\n",
        "        return None\n",
        "    else:\n",
        "        return categories_list[0]['name']"
      ],
      "execution_count": 33,
      "outputs": []
    },
    {
      "cell_type": "code",
      "metadata": {
        "id": "VK5tSKWV7ZAg",
        "colab_type": "code",
        "colab": {
          "base_uri": "https://localhost:8080/",
          "height": 421
        },
        "outputId": "3da27c57-fbcd-4adf-fc89-b63957269dff"
      },
      "source": [
        "venues = results['response']['groups'][0]['items']\n",
        "    \n",
        "nearby_venues = pd.json_normalize(venues) # flatten JSON\n",
        "\n",
        "# filter columns\n",
        "filtered_columns = ['venue.name', 'venue.categories', 'venue.location.lat', 'venue.location.lng']\n",
        "nearby_venues =nearby_venues.loc[:, filtered_columns]\n",
        "\n",
        "# filter the category for each row\n",
        "nearby_venues['venue.categories'] = nearby_venues.apply(get_category_type, axis=1)\n",
        "\n",
        "# clean columns\n",
        "nearby_venues.columns = [col.split(\".\")[-1] for col in nearby_venues.columns]\n",
        "\n",
        "nearby_venues.head(100)"
      ],
      "execution_count": 34,
      "outputs": [
        {
          "output_type": "execute_result",
          "data": {
            "text/html": [
              "<div>\n",
              "<style scoped>\n",
              "    .dataframe tbody tr th:only-of-type {\n",
              "        vertical-align: middle;\n",
              "    }\n",
              "\n",
              "    .dataframe tbody tr th {\n",
              "        vertical-align: top;\n",
              "    }\n",
              "\n",
              "    .dataframe thead th {\n",
              "        text-align: right;\n",
              "    }\n",
              "</style>\n",
              "<table border=\"1\" class=\"dataframe\">\n",
              "  <thead>\n",
              "    <tr style=\"text-align: right;\">\n",
              "      <th></th>\n",
              "      <th>name</th>\n",
              "      <th>categories</th>\n",
              "      <th>lat</th>\n",
              "      <th>lng</th>\n",
              "    </tr>\n",
              "  </thead>\n",
              "  <tbody>\n",
              "    <tr>\n",
              "      <th>0</th>\n",
              "      <td>kauvery hospital</td>\n",
              "      <td>Hospital</td>\n",
              "      <td>13.038214</td>\n",
              "      <td>80.257067</td>\n",
              "    </tr>\n",
              "    <tr>\n",
              "      <th>1</th>\n",
              "      <td>Balaji Dental &amp; Craniofacial Hospital</td>\n",
              "      <td>Dentist's Office</td>\n",
              "      <td>13.035352</td>\n",
              "      <td>80.247048</td>\n",
              "    </tr>\n",
              "    <tr>\n",
              "      <th>2</th>\n",
              "      <td>Apollo Speciality Hospital</td>\n",
              "      <td>Hospital</td>\n",
              "      <td>13.033841</td>\n",
              "      <td>80.245289</td>\n",
              "    </tr>\n",
              "    <tr>\n",
              "      <th>3</th>\n",
              "      <td>ALL SMYLES COSMETIC DENTAL CENTRE CHENNAI INDIA</td>\n",
              "      <td>Dentist's Office</td>\n",
              "      <td>13.033604</td>\n",
              "      <td>80.250548</td>\n",
              "    </tr>\n",
              "    <tr>\n",
              "      <th>4</th>\n",
              "      <td>SKS Veterinary Hospital</td>\n",
              "      <td>Hospital</td>\n",
              "      <td>13.028984</td>\n",
              "      <td>80.258728</td>\n",
              "    </tr>\n",
              "    <tr>\n",
              "      <th>5</th>\n",
              "      <td>Madras ENT Research Foundation</td>\n",
              "      <td>Hospital</td>\n",
              "      <td>13.027266</td>\n",
              "      <td>80.254176</td>\n",
              "    </tr>\n",
              "    <tr>\n",
              "      <th>6</th>\n",
              "      <td>St. Isabel's Hospital</td>\n",
              "      <td>Hospital</td>\n",
              "      <td>13.039236</td>\n",
              "      <td>80.262297</td>\n",
              "    </tr>\n",
              "    <tr>\n",
              "      <th>7</th>\n",
              "      <td>Oliva Skin and Hair Clinic Alwarpet</td>\n",
              "      <td>Hospital</td>\n",
              "      <td>13.042096</td>\n",
              "      <td>80.259281</td>\n",
              "    </tr>\n",
              "    <tr>\n",
              "      <th>8</th>\n",
              "      <td>Sankara Nethralaya</td>\n",
              "      <td>Hospital</td>\n",
              "      <td>13.026432</td>\n",
              "      <td>80.261102</td>\n",
              "    </tr>\n",
              "    <tr>\n",
              "      <th>9</th>\n",
              "      <td>Dr. Agarwal's Eye Hospital</td>\n",
              "      <td>Hospital</td>\n",
              "      <td>13.046304</td>\n",
              "      <td>80.255363</td>\n",
              "    </tr>\n",
              "    <tr>\n",
              "      <th>10</th>\n",
              "      <td>Bharathiraja Hospital</td>\n",
              "      <td>Hospital</td>\n",
              "      <td>13.048036</td>\n",
              "      <td>80.245013</td>\n",
              "    </tr>\n",
              "    <tr>\n",
              "      <th>11</th>\n",
              "      <td>Seethapathy Clinic and Hospital</td>\n",
              "      <td>Hospital</td>\n",
              "      <td>13.048841</td>\n",
              "      <td>80.264537</td>\n",
              "    </tr>\n",
              "  </tbody>\n",
              "</table>\n",
              "</div>"
            ],
            "text/plain": [
              "                                               name  ...        lng\n",
              "0                                  kauvery hospital  ...  80.257067\n",
              "1             Balaji Dental & Craniofacial Hospital  ...  80.247048\n",
              "2                        Apollo Speciality Hospital  ...  80.245289\n",
              "3   ALL SMYLES COSMETIC DENTAL CENTRE CHENNAI INDIA  ...  80.250548\n",
              "4                           SKS Veterinary Hospital  ...  80.258728\n",
              "5                    Madras ENT Research Foundation  ...  80.254176\n",
              "6                             St. Isabel's Hospital  ...  80.262297\n",
              "7               Oliva Skin and Hair Clinic Alwarpet  ...  80.259281\n",
              "8                                Sankara Nethralaya  ...  80.261102\n",
              "9                        Dr. Agarwal's Eye Hospital  ...  80.255363\n",
              "10                            Bharathiraja Hospital  ...  80.245013\n",
              "11                  Seethapathy Clinic and Hospital  ...  80.264537\n",
              "\n",
              "[12 rows x 4 columns]"
            ]
          },
          "metadata": {
            "tags": []
          },
          "execution_count": 34
        }
      ]
    },
    {
      "cell_type": "markdown",
      "metadata": {
        "id": "Tp3_B6Yb8vJv",
        "colab_type": "text"
      },
      "source": [
        "**Calculating Distance for the hospitals extracted**"
      ]
    },
    {
      "cell_type": "code",
      "metadata": {
        "id": "9MI78U5l9f7A",
        "colab_type": "code",
        "colab": {}
      },
      "source": [
        "from math import radians, cos, sin, asin, sqrt \n",
        "def distance(lat1, lon1, lat2, lon2): \n",
        "      \n",
        "    # The math module contains a function named \n",
        "    # radians which converts from degrees to radians. \n",
        "    lon1 = radians(lon1) \n",
        "    lon2 = radians(lon2) \n",
        "    lat1 = radians(lat1) \n",
        "    lat2 = radians(lat2) \n",
        "       \n",
        "    # Haversine formula  \n",
        "    dlon = lon2 - lon1  \n",
        "    dlat = lat2 - lat1 \n",
        "    a = sin(dlat / 2)**2 + cos(lat1) * cos(lat2) * sin(dlon / 2)**2\n",
        "  \n",
        "    c = 2 * asin(sqrt(a))  \n",
        "     \n",
        "    # Radius of earth in kilometers. Use 3956 for miles \n",
        "    r = 6371\n",
        "       \n",
        "    # calculate the result \n",
        "    return(c * r) "
      ],
      "execution_count": 35,
      "outputs": []
    },
    {
      "cell_type": "code",
      "metadata": {
        "id": "GE7Jmxt79jWm",
        "colab_type": "code",
        "colab": {}
      },
      "source": [
        "Dist_km=[]\n",
        "for i in range(len(nearby_venues)):\n",
        "    #print(Lat_Long_TN.loc[i, 'Latitude'], Lat_Long_TN.loc[i, 'Longitude'])\n",
        "    dist=distance(latitude1,longitude1,nearby_venues.loc[i, 'lat'], nearby_venues.loc[i, 'lng'])\n",
        "    Dist_km.append(dist)"
      ],
      "execution_count": 36,
      "outputs": []
    },
    {
      "cell_type": "code",
      "metadata": {
        "id": "3Xoaw46V9xcx",
        "colab_type": "code",
        "colab": {}
      },
      "source": [
        "nearby_venues['Distance']=Dist_km"
      ],
      "execution_count": 37,
      "outputs": []
    },
    {
      "cell_type": "code",
      "metadata": {
        "id": "p5q60Xay9yGh",
        "colab_type": "code",
        "colab": {
          "base_uri": "https://localhost:8080/",
          "height": 204
        },
        "outputId": "ef6675a3-6784-44ca-9508-dc18f3ab0383"
      },
      "source": [
        "nearby_venues.head()"
      ],
      "execution_count": 38,
      "outputs": [
        {
          "output_type": "execute_result",
          "data": {
            "text/html": [
              "<div>\n",
              "<style scoped>\n",
              "    .dataframe tbody tr th:only-of-type {\n",
              "        vertical-align: middle;\n",
              "    }\n",
              "\n",
              "    .dataframe tbody tr th {\n",
              "        vertical-align: top;\n",
              "    }\n",
              "\n",
              "    .dataframe thead th {\n",
              "        text-align: right;\n",
              "    }\n",
              "</style>\n",
              "<table border=\"1\" class=\"dataframe\">\n",
              "  <thead>\n",
              "    <tr style=\"text-align: right;\">\n",
              "      <th></th>\n",
              "      <th>name</th>\n",
              "      <th>categories</th>\n",
              "      <th>lat</th>\n",
              "      <th>lng</th>\n",
              "      <th>Distance</th>\n",
              "    </tr>\n",
              "  </thead>\n",
              "  <tbody>\n",
              "    <tr>\n",
              "      <th>0</th>\n",
              "      <td>kauvery hospital</td>\n",
              "      <td>Hospital</td>\n",
              "      <td>13.038214</td>\n",
              "      <td>80.257067</td>\n",
              "      <td>0.555733</td>\n",
              "    </tr>\n",
              "    <tr>\n",
              "      <th>1</th>\n",
              "      <td>Balaji Dental &amp; Craniofacial Hospital</td>\n",
              "      <td>Dentist's Office</td>\n",
              "      <td>13.035352</td>\n",
              "      <td>80.247048</td>\n",
              "      <td>0.829344</td>\n",
              "    </tr>\n",
              "    <tr>\n",
              "      <th>2</th>\n",
              "      <td>Apollo Speciality Hospital</td>\n",
              "      <td>Hospital</td>\n",
              "      <td>13.033841</td>\n",
              "      <td>80.245289</td>\n",
              "      <td>1.003141</td>\n",
              "    </tr>\n",
              "    <tr>\n",
              "      <th>3</th>\n",
              "      <td>ALL SMYLES COSMETIC DENTAL CENTRE CHENNAI INDIA</td>\n",
              "      <td>Dentist's Office</td>\n",
              "      <td>13.033604</td>\n",
              "      <td>80.250548</td>\n",
              "      <td>0.434329</td>\n",
              "    </tr>\n",
              "    <tr>\n",
              "      <th>4</th>\n",
              "      <td>SKS Veterinary Hospital</td>\n",
              "      <td>Hospital</td>\n",
              "      <td>13.028984</td>\n",
              "      <td>80.258728</td>\n",
              "      <td>0.706312</td>\n",
              "    </tr>\n",
              "  </tbody>\n",
              "</table>\n",
              "</div>"
            ],
            "text/plain": [
              "                                              name  ...  Distance\n",
              "0                                 kauvery hospital  ...  0.555733\n",
              "1            Balaji Dental & Craniofacial Hospital  ...  0.829344\n",
              "2                       Apollo Speciality Hospital  ...  1.003141\n",
              "3  ALL SMYLES COSMETIC DENTAL CENTRE CHENNAI INDIA  ...  0.434329\n",
              "4                          SKS Veterinary Hospital  ...  0.706312\n",
              "\n",
              "[5 rows x 5 columns]"
            ]
          },
          "metadata": {
            "tags": []
          },
          "execution_count": 38
        }
      ]
    },
    {
      "cell_type": "markdown",
      "metadata": {
        "id": "OVUOjcCGm85Y",
        "colab_type": "text"
      },
      "source": [
        "**Spotting the locations in the Map**"
      ]
    },
    {
      "cell_type": "code",
      "metadata": {
        "id": "WTh3dre-opiW",
        "colab_type": "code",
        "colab": {}
      },
      "source": [
        "nearby_venues=nearby_venues.sort_values(by=['Distance'])"
      ],
      "execution_count": 39,
      "outputs": []
    },
    {
      "cell_type": "code",
      "metadata": {
        "id": "4iKvut_Mo4Jo",
        "colab_type": "code",
        "colab": {
          "base_uri": "https://localhost:8080/",
          "height": 204
        },
        "outputId": "d1aded85-dd23-48d6-d0d5-f1a5d631f160"
      },
      "source": [
        "nearby_venues.head()"
      ],
      "execution_count": 40,
      "outputs": [
        {
          "output_type": "execute_result",
          "data": {
            "text/html": [
              "<div>\n",
              "<style scoped>\n",
              "    .dataframe tbody tr th:only-of-type {\n",
              "        vertical-align: middle;\n",
              "    }\n",
              "\n",
              "    .dataframe tbody tr th {\n",
              "        vertical-align: top;\n",
              "    }\n",
              "\n",
              "    .dataframe thead th {\n",
              "        text-align: right;\n",
              "    }\n",
              "</style>\n",
              "<table border=\"1\" class=\"dataframe\">\n",
              "  <thead>\n",
              "    <tr style=\"text-align: right;\">\n",
              "      <th></th>\n",
              "      <th>name</th>\n",
              "      <th>categories</th>\n",
              "      <th>lat</th>\n",
              "      <th>lng</th>\n",
              "      <th>Distance</th>\n",
              "    </tr>\n",
              "  </thead>\n",
              "  <tbody>\n",
              "    <tr>\n",
              "      <th>3</th>\n",
              "      <td>ALL SMYLES COSMETIC DENTAL CENTRE CHENNAI INDIA</td>\n",
              "      <td>Dentist's Office</td>\n",
              "      <td>13.033604</td>\n",
              "      <td>80.250548</td>\n",
              "      <td>0.434329</td>\n",
              "    </tr>\n",
              "    <tr>\n",
              "      <th>0</th>\n",
              "      <td>kauvery hospital</td>\n",
              "      <td>Hospital</td>\n",
              "      <td>13.038214</td>\n",
              "      <td>80.257067</td>\n",
              "      <td>0.555733</td>\n",
              "    </tr>\n",
              "    <tr>\n",
              "      <th>4</th>\n",
              "      <td>SKS Veterinary Hospital</td>\n",
              "      <td>Hospital</td>\n",
              "      <td>13.028984</td>\n",
              "      <td>80.258728</td>\n",
              "      <td>0.706312</td>\n",
              "    </tr>\n",
              "    <tr>\n",
              "      <th>5</th>\n",
              "      <td>Madras ENT Research Foundation</td>\n",
              "      <td>Hospital</td>\n",
              "      <td>13.027266</td>\n",
              "      <td>80.254176</td>\n",
              "      <td>0.734405</td>\n",
              "    </tr>\n",
              "    <tr>\n",
              "      <th>1</th>\n",
              "      <td>Balaji Dental &amp; Craniofacial Hospital</td>\n",
              "      <td>Dentist's Office</td>\n",
              "      <td>13.035352</td>\n",
              "      <td>80.247048</td>\n",
              "      <td>0.829344</td>\n",
              "    </tr>\n",
              "  </tbody>\n",
              "</table>\n",
              "</div>"
            ],
            "text/plain": [
              "                                              name  ...  Distance\n",
              "3  ALL SMYLES COSMETIC DENTAL CENTRE CHENNAI INDIA  ...  0.434329\n",
              "0                                 kauvery hospital  ...  0.555733\n",
              "4                          SKS Veterinary Hospital  ...  0.706312\n",
              "5                   Madras ENT Research Foundation  ...  0.734405\n",
              "1            Balaji Dental & Craniofacial Hospital  ...  0.829344\n",
              "\n",
              "[5 rows x 5 columns]"
            ]
          },
          "metadata": {
            "tags": []
          },
          "execution_count": 40
        }
      ]
    },
    {
      "cell_type": "markdown",
      "metadata": {
        "id": "4BpkBA19OJ-o",
        "colab_type": "text"
      },
      "source": [
        "**Clustering based on distance**"
      ]
    },
    {
      "cell_type": "code",
      "metadata": {
        "id": "FRy5xbnvpkvZ",
        "colab_type": "code",
        "colab": {}
      },
      "source": [
        "from sklearn.cluster import KMeans"
      ],
      "execution_count": 41,
      "outputs": []
    },
    {
      "cell_type": "code",
      "metadata": {
        "id": "nokZ9OH-pk6J",
        "colab_type": "code",
        "colab": {
          "base_uri": "https://localhost:8080/",
          "height": 34
        },
        "outputId": "514e843b-49c2-44fe-ec08-4dbecd5c2f31"
      },
      "source": [
        "# set number of clusters\n",
        "kclusters = 3\n",
        "\n",
        "# run k-means clustering\n",
        "kmeans = KMeans(n_clusters=kclusters, random_state=0).fit(nearby_venues[['lat','lng','Distance']])\n",
        "\n",
        "# check cluster labels generated for each row in the dataframe\n",
        "kmeans.labels_[0:10] "
      ],
      "execution_count": 42,
      "outputs": [
        {
          "output_type": "execute_result",
          "data": {
            "text/plain": [
              "array([0, 0, 0, 0, 0, 2, 2, 2, 2, 2], dtype=int32)"
            ]
          },
          "metadata": {
            "tags": []
          },
          "execution_count": 42
        }
      ]
    },
    {
      "cell_type": "code",
      "metadata": {
        "id": "adb0W8Pjs6kO",
        "colab_type": "code",
        "colab": {}
      },
      "source": [
        "nearby_venues.insert(0, 'Cluster Labels', kmeans.labels_)"
      ],
      "execution_count": 43,
      "outputs": []
    },
    {
      "cell_type": "code",
      "metadata": {
        "id": "nzqz8z5-tPwg",
        "colab_type": "code",
        "colab": {
          "base_uri": "https://localhost:8080/",
          "height": 421
        },
        "outputId": "443a994a-74ae-4f28-ca7f-e44f17774cfe"
      },
      "source": [
        "nearby_venues.head(13)"
      ],
      "execution_count": 45,
      "outputs": [
        {
          "output_type": "execute_result",
          "data": {
            "text/html": [
              "<div>\n",
              "<style scoped>\n",
              "    .dataframe tbody tr th:only-of-type {\n",
              "        vertical-align: middle;\n",
              "    }\n",
              "\n",
              "    .dataframe tbody tr th {\n",
              "        vertical-align: top;\n",
              "    }\n",
              "\n",
              "    .dataframe thead th {\n",
              "        text-align: right;\n",
              "    }\n",
              "</style>\n",
              "<table border=\"1\" class=\"dataframe\">\n",
              "  <thead>\n",
              "    <tr style=\"text-align: right;\">\n",
              "      <th></th>\n",
              "      <th>Cluster Labels</th>\n",
              "      <th>name</th>\n",
              "      <th>categories</th>\n",
              "      <th>lat</th>\n",
              "      <th>lng</th>\n",
              "      <th>Distance</th>\n",
              "    </tr>\n",
              "  </thead>\n",
              "  <tbody>\n",
              "    <tr>\n",
              "      <th>3</th>\n",
              "      <td>0</td>\n",
              "      <td>ALL SMYLES COSMETIC DENTAL CENTRE CHENNAI INDIA</td>\n",
              "      <td>Dentist's Office</td>\n",
              "      <td>13.033604</td>\n",
              "      <td>80.250548</td>\n",
              "      <td>0.434329</td>\n",
              "    </tr>\n",
              "    <tr>\n",
              "      <th>0</th>\n",
              "      <td>0</td>\n",
              "      <td>kauvery hospital</td>\n",
              "      <td>Hospital</td>\n",
              "      <td>13.038214</td>\n",
              "      <td>80.257067</td>\n",
              "      <td>0.555733</td>\n",
              "    </tr>\n",
              "    <tr>\n",
              "      <th>4</th>\n",
              "      <td>0</td>\n",
              "      <td>SKS Veterinary Hospital</td>\n",
              "      <td>Hospital</td>\n",
              "      <td>13.028984</td>\n",
              "      <td>80.258728</td>\n",
              "      <td>0.706312</td>\n",
              "    </tr>\n",
              "    <tr>\n",
              "      <th>5</th>\n",
              "      <td>0</td>\n",
              "      <td>Madras ENT Research Foundation</td>\n",
              "      <td>Hospital</td>\n",
              "      <td>13.027266</td>\n",
              "      <td>80.254176</td>\n",
              "      <td>0.734405</td>\n",
              "    </tr>\n",
              "    <tr>\n",
              "      <th>1</th>\n",
              "      <td>0</td>\n",
              "      <td>Balaji Dental &amp; Craniofacial Hospital</td>\n",
              "      <td>Dentist's Office</td>\n",
              "      <td>13.035352</td>\n",
              "      <td>80.247048</td>\n",
              "      <td>0.829344</td>\n",
              "    </tr>\n",
              "    <tr>\n",
              "      <th>2</th>\n",
              "      <td>2</td>\n",
              "      <td>Apollo Speciality Hospital</td>\n",
              "      <td>Hospital</td>\n",
              "      <td>13.033841</td>\n",
              "      <td>80.245289</td>\n",
              "      <td>1.003141</td>\n",
              "    </tr>\n",
              "    <tr>\n",
              "      <th>6</th>\n",
              "      <td>2</td>\n",
              "      <td>St. Isabel's Hospital</td>\n",
              "      <td>Hospital</td>\n",
              "      <td>13.039236</td>\n",
              "      <td>80.262297</td>\n",
              "      <td>1.030461</td>\n",
              "    </tr>\n",
              "    <tr>\n",
              "      <th>7</th>\n",
              "      <td>2</td>\n",
              "      <td>Oliva Skin and Hair Clinic Alwarpet</td>\n",
              "      <td>Hospital</td>\n",
              "      <td>13.042096</td>\n",
              "      <td>80.259281</td>\n",
              "      <td>1.049481</td>\n",
              "    </tr>\n",
              "    <tr>\n",
              "      <th>8</th>\n",
              "      <td>2</td>\n",
              "      <td>Sankara Nethralaya</td>\n",
              "      <td>Hospital</td>\n",
              "      <td>13.026432</td>\n",
              "      <td>80.261102</td>\n",
              "      <td>1.089126</td>\n",
              "    </tr>\n",
              "    <tr>\n",
              "      <th>9</th>\n",
              "      <td>2</td>\n",
              "      <td>Dr. Agarwal's Eye Hospital</td>\n",
              "      <td>Hospital</td>\n",
              "      <td>13.046304</td>\n",
              "      <td>80.255363</td>\n",
              "      <td>1.386506</td>\n",
              "    </tr>\n",
              "    <tr>\n",
              "      <th>10</th>\n",
              "      <td>1</td>\n",
              "      <td>Bharathiraja Hospital</td>\n",
              "      <td>Hospital</td>\n",
              "      <td>13.048036</td>\n",
              "      <td>80.245013</td>\n",
              "      <td>1.884593</td>\n",
              "    </tr>\n",
              "    <tr>\n",
              "      <th>11</th>\n",
              "      <td>1</td>\n",
              "      <td>Seethapathy Clinic and Hospital</td>\n",
              "      <td>Hospital</td>\n",
              "      <td>13.048841</td>\n",
              "      <td>80.264537</td>\n",
              "      <td>1.986330</td>\n",
              "    </tr>\n",
              "  </tbody>\n",
              "</table>\n",
              "</div>"
            ],
            "text/plain": [
              "    Cluster Labels  ...  Distance\n",
              "3                0  ...  0.434329\n",
              "0                0  ...  0.555733\n",
              "4                0  ...  0.706312\n",
              "5                0  ...  0.734405\n",
              "1                0  ...  0.829344\n",
              "2                2  ...  1.003141\n",
              "6                2  ...  1.030461\n",
              "7                2  ...  1.049481\n",
              "8                2  ...  1.089126\n",
              "9                2  ...  1.386506\n",
              "10               1  ...  1.884593\n",
              "11               1  ...  1.986330\n",
              "\n",
              "[12 rows x 6 columns]"
            ]
          },
          "metadata": {
            "tags": []
          },
          "execution_count": 45
        }
      ]
    },
    {
      "cell_type": "markdown",
      "metadata": {
        "id": "jpvDeqeltbsY",
        "colab_type": "text"
      },
      "source": [
        "**Mapping Clutered Coordinates**"
      ]
    },
    {
      "cell_type": "code",
      "metadata": {
        "id": "AnaXQCfTnNmd",
        "colab_type": "code",
        "colab": {}
      },
      "source": [
        "import folium # map rendering library\n",
        "import matplotlib.cm as cm\n",
        "import numpy as np\n",
        "import matplotlib.colors as colors"
      ],
      "execution_count": 46,
      "outputs": []
    },
    {
      "cell_type": "code",
      "metadata": {
        "id": "Kcx0bvExnU2B",
        "colab_type": "code",
        "colab": {
          "base_uri": "https://localhost:8080/",
          "height": 763
        },
        "outputId": "4e44e402-7d36-4409-8c63-9f23c6d9087b"
      },
      "source": [
        "# create map\n",
        "map_clusters = folium.Map(location=[latitude1, longitude1], zoom_start=13)\n",
        "\n",
        "# set color scheme for the clusters\n",
        "kclusters=3\n",
        "x = np.arange(kclusters)\n",
        "ys = [i + x + (i*x)**2 for i in range(kclusters)]\n",
        "colors_array = cm.rainbow(np.linspace(0, 1, len(ys)))\n",
        "rainbow = [colors.rgb2hex(i) for i in colors_array]\n",
        "\n",
        "# add markers to the map\n",
        "markers_colors = []\n",
        "for lat, lon, name, distt, clus in zip(nearby_venues['lat'], nearby_venues['lng'], nearby_venues['name'],nearby_venues['Distance'],nearby_venues['Cluster Labels']):\n",
        "    label = folium.Popup(str(name) + '\\n Distance:' + str(distt) + 'km', parse_html=True)\n",
        "    folium.CircleMarker(\n",
        "        [lat, lon],\n",
        "        radius=5,\n",
        "        popup=label,\n",
        "        color=rainbow[clus],\n",
        "        fill=True,\n",
        "        fill_color=rainbow[clus],\n",
        "        fill_opacity=0.7).add_to(map_clusters)\n",
        "       \n",
        "map_clusters"
      ],
      "execution_count": 47,
      "outputs": [
        {
          "output_type": "execute_result",
          "data": {
            "text/html": [
              "<div style=\"width:100%;\"><div style=\"position:relative;width:100%;height:0;padding-bottom:60%;\"><span style=\"color:#565656\">Make this Notebook Trusted to load map: File -> Trust Notebook</span><iframe src=\"about:blank\" style=\"position:absolute;width:100%;height:100%;left:0;top:0;border:none !important;\" data-html=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 onload=\"this.contentDocument.open();this.contentDocument.write(atob(this.getAttribute('data-html')));this.contentDocument.close();\" allowfullscreen webkitallowfullscreen mozallowfullscreen></iframe></div></div>"
            ],
            "text/plain": [
              "<folium.folium.Map at 0x7facaa1a8208>"
            ]
          },
          "metadata": {
            "tags": []
          },
          "execution_count": 47
        }
      ]
    },
    {
      "cell_type": "markdown",
      "metadata": {
        "id": "RaM_Z3upwa_0",
        "colab_type": "text"
      },
      "source": [
        "##**Problem 2: Clustering severity of COVID-19 impact based on FourSquare API**"
      ]
    },
    {
      "cell_type": "markdown",
      "metadata": {
        "id": "sWTuAix-yTrJ",
        "colab_type": "text"
      },
      "source": [
        "Merging two dataframes containing locations and COVID-19 cases"
      ]
    },
    {
      "cell_type": "code",
      "metadata": {
        "id": "3LUE99R_wyjc",
        "colab_type": "code",
        "colab": {
          "base_uri": "https://localhost:8080/",
          "height": 204
        },
        "outputId": "9de7873f-2d17-4802-cc84-a7d794054c8c"
      },
      "source": [
        "Lat_Long_TN.head()"
      ],
      "execution_count": 48,
      "outputs": [
        {
          "output_type": "execute_result",
          "data": {
            "text/html": [
              "<div>\n",
              "<style scoped>\n",
              "    .dataframe tbody tr th:only-of-type {\n",
              "        vertical-align: middle;\n",
              "    }\n",
              "\n",
              "    .dataframe tbody tr th {\n",
              "        vertical-align: top;\n",
              "    }\n",
              "\n",
              "    .dataframe thead th {\n",
              "        text-align: right;\n",
              "    }\n",
              "</style>\n",
              "<table border=\"1\" class=\"dataframe\">\n",
              "  <thead>\n",
              "    <tr style=\"text-align: right;\">\n",
              "      <th></th>\n",
              "      <th>Active</th>\n",
              "      <th>Location</th>\n",
              "      <th>Latitude</th>\n",
              "      <th>Longitude</th>\n",
              "      <th>DD_Lat</th>\n",
              "      <th>DD_Lng</th>\n",
              "    </tr>\n",
              "  </thead>\n",
              "  <tbody>\n",
              "    <tr>\n",
              "      <th>0</th>\n",
              "      <td>1</td>\n",
              "      <td>Ariyalur</td>\n",
              "      <td>11° 8' N</td>\n",
              "      <td>79° 4' E</td>\n",
              "      <td>11.133333</td>\n",
              "      <td>79.066667</td>\n",
              "    </tr>\n",
              "    <tr>\n",
              "      <th>1</th>\n",
              "      <td>1</td>\n",
              "      <td>Chengalpattu</td>\n",
              "      <td>12° 42' N</td>\n",
              "      <td>80° 01' E</td>\n",
              "      <td>12.700000</td>\n",
              "      <td>80.016667</td>\n",
              "    </tr>\n",
              "    <tr>\n",
              "      <th>2</th>\n",
              "      <td>1</td>\n",
              "      <td>Chennai</td>\n",
              "      <td>13° 04' N</td>\n",
              "      <td>80° 17' E</td>\n",
              "      <td>13.066667</td>\n",
              "      <td>80.283333</td>\n",
              "    </tr>\n",
              "    <tr>\n",
              "      <th>3</th>\n",
              "      <td>1</td>\n",
              "      <td>Coimbatore</td>\n",
              "      <td>11° 00' N</td>\n",
              "      <td>77° 00' E</td>\n",
              "      <td>11.000000</td>\n",
              "      <td>77.000000</td>\n",
              "    </tr>\n",
              "    <tr>\n",
              "      <th>4</th>\n",
              "      <td>1</td>\n",
              "      <td>Cuddalore</td>\n",
              "      <td>11° 43' N</td>\n",
              "      <td>79° 49' E</td>\n",
              "      <td>11.716667</td>\n",
              "      <td>79.816667</td>\n",
              "    </tr>\n",
              "  </tbody>\n",
              "</table>\n",
              "</div>"
            ],
            "text/plain": [
              "   Active      Location   Latitude  Longitude     DD_Lat     DD_Lng\n",
              "0       1      Ariyalur   11° 8' N   79° 4' E  11.133333  79.066667\n",
              "1       1  Chengalpattu  12° 42' N  80° 01' E  12.700000  80.016667\n",
              "2       1       Chennai  13° 04' N  80° 17' E  13.066667  80.283333\n",
              "3       1    Coimbatore  11° 00' N  77° 00' E  11.000000  77.000000\n",
              "4       1     Cuddalore  11° 43' N  79° 49' E  11.716667  79.816667"
            ]
          },
          "metadata": {
            "tags": []
          },
          "execution_count": 48
        }
      ]
    },
    {
      "cell_type": "code",
      "metadata": {
        "id": "Xh2HtgPZx9K6",
        "colab_type": "code",
        "colab": {
          "base_uri": "https://localhost:8080/",
          "height": 204
        },
        "outputId": "4ad87706-856c-425f-f527-41078ec1f401"
      },
      "source": [
        "cases_dt.head()"
      ],
      "execution_count": 49,
      "outputs": [
        {
          "output_type": "execute_result",
          "data": {
            "text/html": [
              "<div>\n",
              "<style scoped>\n",
              "    .dataframe tbody tr th:only-of-type {\n",
              "        vertical-align: middle;\n",
              "    }\n",
              "\n",
              "    .dataframe tbody tr th {\n",
              "        vertical-align: top;\n",
              "    }\n",
              "\n",
              "    .dataframe thead th {\n",
              "        text-align: right;\n",
              "    }\n",
              "</style>\n",
              "<table border=\"1\" class=\"dataframe\">\n",
              "  <thead>\n",
              "    <tr style=\"text-align: right;\">\n",
              "      <th></th>\n",
              "      <th>District</th>\n",
              "      <th>Diagnosed cases</th>\n",
              "      <th>Deaths</th>\n",
              "      <th>Recovered cases</th>\n",
              "      <th>Active cases</th>\n",
              "      <th>Population</th>\n",
              "      <th>Cases per M</th>\n",
              "      <th>Last case reported on</th>\n",
              "    </tr>\n",
              "  </thead>\n",
              "  <tbody>\n",
              "    <tr>\n",
              "      <th>0</th>\n",
              "      <td>Chengalpattu</td>\n",
              "      <td>8553</td>\n",
              "      <td>169</td>\n",
              "      <td>5695</td>\n",
              "      <td>2689</td>\n",
              "      <td>2556244</td>\n",
              "      <td>3346</td>\n",
              "      <td>14 July 2020</td>\n",
              "    </tr>\n",
              "    <tr>\n",
              "      <th>1</th>\n",
              "      <td>Chennai</td>\n",
              "      <td>79662</td>\n",
              "      <td>1295</td>\n",
              "      <td>62552</td>\n",
              "      <td>15815</td>\n",
              "      <td>4646732</td>\n",
              "      <td>17144</td>\n",
              "      <td>14 July 2020</td>\n",
              "    </tr>\n",
              "    <tr>\n",
              "      <th>2</th>\n",
              "      <td>Coimbatore</td>\n",
              "      <td>1480</td>\n",
              "      <td>10</td>\n",
              "      <td>338</td>\n",
              "      <td>1132</td>\n",
              "      <td>3458045</td>\n",
              "      <td>428</td>\n",
              "      <td>14 July 2020</td>\n",
              "    </tr>\n",
              "    <tr>\n",
              "      <th>3</th>\n",
              "      <td>Cuddalore</td>\n",
              "      <td>1565</td>\n",
              "      <td>6</td>\n",
              "      <td>1154</td>\n",
              "      <td>405</td>\n",
              "      <td>2605914</td>\n",
              "      <td>601</td>\n",
              "      <td>14 July 2020</td>\n",
              "    </tr>\n",
              "    <tr>\n",
              "      <th>4</th>\n",
              "      <td>Dharmapuri</td>\n",
              "      <td>260</td>\n",
              "      <td>1</td>\n",
              "      <td>103</td>\n",
              "      <td>156</td>\n",
              "      <td>1506843</td>\n",
              "      <td>173</td>\n",
              "      <td>14 July 2020</td>\n",
              "    </tr>\n",
              "  </tbody>\n",
              "</table>\n",
              "</div>"
            ],
            "text/plain": [
              "       District  Diagnosed cases  ...  Cases per M  Last case reported on\n",
              "0  Chengalpattu             8553  ...         3346           14 July 2020\n",
              "1       Chennai            79662  ...        17144           14 July 2020\n",
              "2    Coimbatore             1480  ...          428           14 July 2020\n",
              "3     Cuddalore             1565  ...          601           14 July 2020\n",
              "4    Dharmapuri              260  ...          173           14 July 2020\n",
              "\n",
              "[5 rows x 8 columns]"
            ]
          },
          "metadata": {
            "tags": []
          },
          "execution_count": 49
        }
      ]
    },
    {
      "cell_type": "code",
      "metadata": {
        "id": "slB3B3MFx9Zm",
        "colab_type": "code",
        "colab": {}
      },
      "source": [
        "Merge_df=pd.merge(Lat_Long_TN, cases_dt, how='inner',left_on=['Location'],right_on=['District'])"
      ],
      "execution_count": 50,
      "outputs": []
    },
    {
      "cell_type": "code",
      "metadata": {
        "id": "Hoy9vKJ3yHDv",
        "colab_type": "code",
        "colab": {
          "base_uri": "https://localhost:8080/",
          "height": 221
        },
        "outputId": "f84d0e40-9d27-41ad-ca34-ad28c09caa0f"
      },
      "source": [
        "Merge_df.head()"
      ],
      "execution_count": 51,
      "outputs": [
        {
          "output_type": "execute_result",
          "data": {
            "text/html": [
              "<div>\n",
              "<style scoped>\n",
              "    .dataframe tbody tr th:only-of-type {\n",
              "        vertical-align: middle;\n",
              "    }\n",
              "\n",
              "    .dataframe tbody tr th {\n",
              "        vertical-align: top;\n",
              "    }\n",
              "\n",
              "    .dataframe thead th {\n",
              "        text-align: right;\n",
              "    }\n",
              "</style>\n",
              "<table border=\"1\" class=\"dataframe\">\n",
              "  <thead>\n",
              "    <tr style=\"text-align: right;\">\n",
              "      <th></th>\n",
              "      <th>Active</th>\n",
              "      <th>Location</th>\n",
              "      <th>Latitude</th>\n",
              "      <th>Longitude</th>\n",
              "      <th>DD_Lat</th>\n",
              "      <th>DD_Lng</th>\n",
              "      <th>District</th>\n",
              "      <th>Diagnosed cases</th>\n",
              "      <th>Deaths</th>\n",
              "      <th>Recovered cases</th>\n",
              "      <th>Active cases</th>\n",
              "      <th>Population</th>\n",
              "      <th>Cases per M</th>\n",
              "      <th>Last case reported on</th>\n",
              "    </tr>\n",
              "  </thead>\n",
              "  <tbody>\n",
              "    <tr>\n",
              "      <th>0</th>\n",
              "      <td>1</td>\n",
              "      <td>Chengalpattu</td>\n",
              "      <td>12° 42' N</td>\n",
              "      <td>80° 01' E</td>\n",
              "      <td>12.700000</td>\n",
              "      <td>80.016667</td>\n",
              "      <td>Chengalpattu</td>\n",
              "      <td>8553</td>\n",
              "      <td>169</td>\n",
              "      <td>5695</td>\n",
              "      <td>2689</td>\n",
              "      <td>2556244</td>\n",
              "      <td>3346</td>\n",
              "      <td>14 July 2020</td>\n",
              "    </tr>\n",
              "    <tr>\n",
              "      <th>1</th>\n",
              "      <td>1</td>\n",
              "      <td>Chennai</td>\n",
              "      <td>13° 04' N</td>\n",
              "      <td>80° 17' E</td>\n",
              "      <td>13.066667</td>\n",
              "      <td>80.283333</td>\n",
              "      <td>Chennai</td>\n",
              "      <td>79662</td>\n",
              "      <td>1295</td>\n",
              "      <td>62552</td>\n",
              "      <td>15815</td>\n",
              "      <td>4646732</td>\n",
              "      <td>17144</td>\n",
              "      <td>14 July 2020</td>\n",
              "    </tr>\n",
              "    <tr>\n",
              "      <th>2</th>\n",
              "      <td>1</td>\n",
              "      <td>Coimbatore</td>\n",
              "      <td>11° 00' N</td>\n",
              "      <td>77° 00' E</td>\n",
              "      <td>11.000000</td>\n",
              "      <td>77.000000</td>\n",
              "      <td>Coimbatore</td>\n",
              "      <td>1480</td>\n",
              "      <td>10</td>\n",
              "      <td>338</td>\n",
              "      <td>1132</td>\n",
              "      <td>3458045</td>\n",
              "      <td>428</td>\n",
              "      <td>14 July 2020</td>\n",
              "    </tr>\n",
              "    <tr>\n",
              "      <th>3</th>\n",
              "      <td>1</td>\n",
              "      <td>Cuddalore</td>\n",
              "      <td>11° 43' N</td>\n",
              "      <td>79° 49' E</td>\n",
              "      <td>11.716667</td>\n",
              "      <td>79.816667</td>\n",
              "      <td>Cuddalore</td>\n",
              "      <td>1565</td>\n",
              "      <td>6</td>\n",
              "      <td>1154</td>\n",
              "      <td>405</td>\n",
              "      <td>2605914</td>\n",
              "      <td>601</td>\n",
              "      <td>14 July 2020</td>\n",
              "    </tr>\n",
              "    <tr>\n",
              "      <th>4</th>\n",
              "      <td>1</td>\n",
              "      <td>Dharmapuri</td>\n",
              "      <td>12° 08' N</td>\n",
              "      <td>78° 13' E</td>\n",
              "      <td>12.133333</td>\n",
              "      <td>78.216667</td>\n",
              "      <td>Dharmapuri</td>\n",
              "      <td>260</td>\n",
              "      <td>1</td>\n",
              "      <td>103</td>\n",
              "      <td>156</td>\n",
              "      <td>1506843</td>\n",
              "      <td>173</td>\n",
              "      <td>14 July 2020</td>\n",
              "    </tr>\n",
              "  </tbody>\n",
              "</table>\n",
              "</div>"
            ],
            "text/plain": [
              "   Active      Location  ... Cases per M Last case reported on\n",
              "0       1  Chengalpattu  ...        3346          14 July 2020\n",
              "1       1       Chennai  ...       17144          14 July 2020\n",
              "2       1    Coimbatore  ...         428          14 July 2020\n",
              "3       1     Cuddalore  ...         601          14 July 2020\n",
              "4       1    Dharmapuri  ...         173          14 July 2020\n",
              "\n",
              "[5 rows x 14 columns]"
            ]
          },
          "metadata": {
            "tags": []
          },
          "execution_count": 51
        }
      ]
    },
    {
      "cell_type": "markdown",
      "metadata": {
        "id": "OrQPes58zM38",
        "colab_type": "text"
      },
      "source": [
        "** Clustering based on Diagnosed cases,\tDeaths,\tRecovered cases,Active cases,Population and\tCases per M Columns **"
      ]
    },
    {
      "cell_type": "code",
      "metadata": {
        "id": "rWxk4V8QVuYb",
        "colab_type": "code",
        "colab": {
          "base_uri": "https://localhost:8080/",
          "height": 204
        },
        "outputId": "378db8bd-6ddc-43e0-86d2-2bea48d7ea9d"
      },
      "source": [
        "clus_dt=Merge_df[['Diagnosed cases','Deaths','Recovered cases','Active cases','Population','Cases per M']]\n",
        "clus_dt.head()"
      ],
      "execution_count": 52,
      "outputs": [
        {
          "output_type": "execute_result",
          "data": {
            "text/html": [
              "<div>\n",
              "<style scoped>\n",
              "    .dataframe tbody tr th:only-of-type {\n",
              "        vertical-align: middle;\n",
              "    }\n",
              "\n",
              "    .dataframe tbody tr th {\n",
              "        vertical-align: top;\n",
              "    }\n",
              "\n",
              "    .dataframe thead th {\n",
              "        text-align: right;\n",
              "    }\n",
              "</style>\n",
              "<table border=\"1\" class=\"dataframe\">\n",
              "  <thead>\n",
              "    <tr style=\"text-align: right;\">\n",
              "      <th></th>\n",
              "      <th>Diagnosed cases</th>\n",
              "      <th>Deaths</th>\n",
              "      <th>Recovered cases</th>\n",
              "      <th>Active cases</th>\n",
              "      <th>Population</th>\n",
              "      <th>Cases per M</th>\n",
              "    </tr>\n",
              "  </thead>\n",
              "  <tbody>\n",
              "    <tr>\n",
              "      <th>0</th>\n",
              "      <td>8553</td>\n",
              "      <td>169</td>\n",
              "      <td>5695</td>\n",
              "      <td>2689</td>\n",
              "      <td>2556244</td>\n",
              "      <td>3346</td>\n",
              "    </tr>\n",
              "    <tr>\n",
              "      <th>1</th>\n",
              "      <td>79662</td>\n",
              "      <td>1295</td>\n",
              "      <td>62552</td>\n",
              "      <td>15815</td>\n",
              "      <td>4646732</td>\n",
              "      <td>17144</td>\n",
              "    </tr>\n",
              "    <tr>\n",
              "      <th>2</th>\n",
              "      <td>1480</td>\n",
              "      <td>10</td>\n",
              "      <td>338</td>\n",
              "      <td>1132</td>\n",
              "      <td>3458045</td>\n",
              "      <td>428</td>\n",
              "    </tr>\n",
              "    <tr>\n",
              "      <th>3</th>\n",
              "      <td>1565</td>\n",
              "      <td>6</td>\n",
              "      <td>1154</td>\n",
              "      <td>405</td>\n",
              "      <td>2605914</td>\n",
              "      <td>601</td>\n",
              "    </tr>\n",
              "    <tr>\n",
              "      <th>4</th>\n",
              "      <td>260</td>\n",
              "      <td>1</td>\n",
              "      <td>103</td>\n",
              "      <td>156</td>\n",
              "      <td>1506843</td>\n",
              "      <td>173</td>\n",
              "    </tr>\n",
              "  </tbody>\n",
              "</table>\n",
              "</div>"
            ],
            "text/plain": [
              "   Diagnosed cases  Deaths  ...  Population  Cases per M\n",
              "0             8553     169  ...     2556244         3346\n",
              "1            79662    1295  ...     4646732        17144\n",
              "2             1480      10  ...     3458045          428\n",
              "3             1565       6  ...     2605914          601\n",
              "4              260       1  ...     1506843          173\n",
              "\n",
              "[5 rows x 6 columns]"
            ]
          },
          "metadata": {
            "tags": []
          },
          "execution_count": 52
        }
      ]
    },
    {
      "cell_type": "code",
      "metadata": {
        "id": "xTDMve6AVT8s",
        "colab_type": "code",
        "colab": {}
      },
      "source": [
        "import matplotlib.pyplot as plt\n",
        "%matplotlib inline\n",
        "def plot(x, y):\n",
        "  plt.plot(x, y, 'o-')\n",
        "  #plt.figure(figsize = (20,10))\n",
        "  plt.xlabel(\"No. of clusters\")\n",
        "  plt.ylabel(\"Silhouette Score\")\n",
        "  plt.show()\n"
      ],
      "execution_count": 53,
      "outputs": []
    },
    {
      "cell_type": "code",
      "metadata": {
        "id": "LPXmMwCeVUJf",
        "colab_type": "code",
        "colab": {
          "base_uri": "https://localhost:8080/",
          "height": 278
        },
        "outputId": "c4f6ac74-469a-49c5-870d-bfdaefb65495"
      },
      "source": [
        "from sklearn.metrics import silhouette_samples, silhouette_score\n",
        "indices = []\n",
        "scores = []\n",
        "for kclusters in range(3, 10) :\n",
        "  kmeans = KMeans(n_clusters = kclusters, init = 'k-means++',random_state = 0).fit_predict(clus_dt)\n",
        "  score = silhouette_score(clus_dt, kmeans)\n",
        "  indices.append(kclusters)\n",
        "  scores.append(score)\n",
        "plot(indices, scores)\n",
        "optimal_value = np.argmax(scores) + 2\n"
      ],
      "execution_count": 54,
      "outputs": [
        {
          "output_type": "display_data",
          "data": {
            "image/png": "[encoded data removed]",
            "text/plain": [
              "<Figure size 432x288 with 1 Axes>"
            ]
          },
          "metadata": {
            "tags": [],
            "needs_background": "light"
          }
        }
      ]
    },
    {
      "cell_type": "code",
      "metadata": {
        "id": "uvjjmc6czLsh",
        "colab_type": "code",
        "colab": {}
      },
      "source": [
        "from sklearn.cluster import KMeans"
      ],
      "execution_count": 55,
      "outputs": []
    },
    {
      "cell_type": "code",
      "metadata": {
        "id": "5zKIiKqVy2Ot",
        "colab_type": "code",
        "colab": {
          "base_uri": "https://localhost:8080/",
          "height": 34
        },
        "outputId": "04170067-906a-4e50-ebf8-93b9646b0add"
      },
      "source": [
        "# set number of clusters\n",
        "kclusters = 6\n",
        "\n",
        "# run k-means clustering\n",
        "kmeans = KMeans(n_clusters=kclusters, random_state=0).fit(Merge_df[['Diagnosed cases','Deaths','Recovered cases','Active cases','Population','Cases per M']])\n",
        "\n",
        "# check cluster labels generated for each row in the dataframe\n",
        "kmeans.labels_[0:10] "
      ],
      "execution_count": 56,
      "outputs": [
        {
          "output_type": "execute_result",
          "data": {
            "text/plain": [
              "array([3, 4, 1, 3, 0, 3, 3, 2, 2, 0], dtype=int32)"
            ]
          },
          "metadata": {
            "tags": []
          },
          "execution_count": 56
        }
      ]
    },
    {
      "cell_type": "code",
      "metadata": {
        "id": "wWM10My60Ttm",
        "colab_type": "code",
        "colab": {}
      },
      "source": [
        "Merge_df.insert(0, 'Cluster Labels', kmeans.labels_)"
      ],
      "execution_count": 57,
      "outputs": []
    },
    {
      "cell_type": "code",
      "metadata": {
        "id": "8uW-vHus0-XM",
        "colab_type": "code",
        "colab": {
          "base_uri": "https://localhost:8080/",
          "height": 1000
        },
        "outputId": "70a92f10-74a0-456d-d8b7-3809a4cd5dc6"
      },
      "source": [
        "Merge_df=Merge_df.sort_values(by=['Cluster Labels'],ascending=False)\n",
        "Merge_df.head(35)"
      ],
      "execution_count": 65,
      "outputs": [
        {
          "output_type": "execute_result",
          "data": {
            "text/html": [
              "<div>\n",
              "<style scoped>\n",
              "    .dataframe tbody tr th:only-of-type {\n",
              "        vertical-align: middle;\n",
              "    }\n",
              "\n",
              "    .dataframe tbody tr th {\n",
              "        vertical-align: top;\n",
              "    }\n",
              "\n",
              "    .dataframe thead th {\n",
              "        text-align: right;\n",
              "    }\n",
              "</style>\n",
              "<table border=\"1\" class=\"dataframe\">\n",
              "  <thead>\n",
              "    <tr style=\"text-align: right;\">\n",
              "      <th></th>\n",
              "      <th>Cluster Labels</th>\n",
              "      <th>Active</th>\n",
              "      <th>Location</th>\n",
              "      <th>Latitude</th>\n",
              "      <th>Longitude</th>\n",
              "      <th>DD_Lat</th>\n",
              "      <th>DD_Lng</th>\n",
              "      <th>District</th>\n",
              "      <th>Diagnosed cases</th>\n",
              "      <th>Deaths</th>\n",
              "      <th>Recovered cases</th>\n",
              "      <th>Active cases</th>\n",
              "      <th>Population</th>\n",
              "      <th>Cases per M</th>\n",
              "      <th>Last case reported on</th>\n",
              "    </tr>\n",
              "  </thead>\n",
              "  <tbody>\n",
              "    <tr>\n",
              "      <th>15</th>\n",
              "      <td>5</td>\n",
              "      <td>1</td>\n",
              "      <td>Nilgiris</td>\n",
              "      <td>11° 29' N</td>\n",
              "      <td>76° 44' E</td>\n",
              "      <td>11.483333</td>\n",
              "      <td>76.733333</td>\n",
              "      <td>Nilgiris</td>\n",
              "      <td>258</td>\n",
              "      <td>1</td>\n",
              "      <td>107</td>\n",
              "      <td>150</td>\n",
              "      <td>735394</td>\n",
              "      <td>351</td>\n",
              "      <td>14 July 2020</td>\n",
              "    </tr>\n",
              "    <tr>\n",
              "      <th>16</th>\n",
              "      <td>5</td>\n",
              "      <td>1</td>\n",
              "      <td>Perambalur</td>\n",
              "      <td>11° 14' N</td>\n",
              "      <td>78° 56 ' E</td>\n",
              "      <td>11.233333</td>\n",
              "      <td>78.933333</td>\n",
              "      <td>Perambalur</td>\n",
              "      <td>178</td>\n",
              "      <td>1</td>\n",
              "      <td>161</td>\n",
              "      <td>16</td>\n",
              "      <td>565223</td>\n",
              "      <td>315</td>\n",
              "      <td>14 July 2020</td>\n",
              "    </tr>\n",
              "    <tr>\n",
              "      <th>1</th>\n",
              "      <td>4</td>\n",
              "      <td>1</td>\n",
              "      <td>Chennai</td>\n",
              "      <td>13° 04' N</td>\n",
              "      <td>80° 17' E</td>\n",
              "      <td>13.066667</td>\n",
              "      <td>80.283333</td>\n",
              "      <td>Chennai</td>\n",
              "      <td>79662</td>\n",
              "      <td>1295</td>\n",
              "      <td>62552</td>\n",
              "      <td>15815</td>\n",
              "      <td>4646732</td>\n",
              "      <td>17144</td>\n",
              "      <td>14 July 2020</td>\n",
              "    </tr>\n",
              "    <tr>\n",
              "      <th>26</th>\n",
              "      <td>3</td>\n",
              "      <td>1</td>\n",
              "      <td>Tiruchirappalli</td>\n",
              "      <td>10° 50' N</td>\n",
              "      <td>78° 46' E</td>\n",
              "      <td>10.833333</td>\n",
              "      <td>78.766667</td>\n",
              "      <td>Tiruchirappalli</td>\n",
              "      <td>1715</td>\n",
              "      <td>27</td>\n",
              "      <td>964</td>\n",
              "      <td>724</td>\n",
              "      <td>2722290</td>\n",
              "      <td>630</td>\n",
              "      <td>14 July 2020</td>\n",
              "    </tr>\n",
              "    <tr>\n",
              "      <th>34</th>\n",
              "      <td>3</td>\n",
              "      <td>1</td>\n",
              "      <td>Villuppuram</td>\n",
              "      <td>11° 57' N</td>\n",
              "      <td>79° 32' E</td>\n",
              "      <td>11.950000</td>\n",
              "      <td>79.533333</td>\n",
              "      <td>Villuppuram</td>\n",
              "      <td>1723</td>\n",
              "      <td>20</td>\n",
              "      <td>1034</td>\n",
              "      <td>669</td>\n",
              "      <td>2093003</td>\n",
              "      <td>823</td>\n",
              "      <td>14 July 2020</td>\n",
              "    </tr>\n",
              "    <tr>\n",
              "      <th>23</th>\n",
              "      <td>3</td>\n",
              "      <td>1</td>\n",
              "      <td>Thanjavur</td>\n",
              "      <td>10° 47' N</td>\n",
              "      <td>79° 10' E</td>\n",
              "      <td>10.783333</td>\n",
              "      <td>79.166667</td>\n",
              "      <td>Thanjavur</td>\n",
              "      <td>738</td>\n",
              "      <td>11</td>\n",
              "      <td>422</td>\n",
              "      <td>1212</td>\n",
              "      <td>2405890</td>\n",
              "      <td>307</td>\n",
              "      <td>14 July 2020</td>\n",
              "    </tr>\n",
              "    <tr>\n",
              "      <th>3</th>\n",
              "      <td>3</td>\n",
              "      <td>1</td>\n",
              "      <td>Cuddalore</td>\n",
              "      <td>11° 43' N</td>\n",
              "      <td>79° 49' E</td>\n",
              "      <td>11.716667</td>\n",
              "      <td>79.816667</td>\n",
              "      <td>Cuddalore</td>\n",
              "      <td>1565</td>\n",
              "      <td>6</td>\n",
              "      <td>1154</td>\n",
              "      <td>405</td>\n",
              "      <td>2605914</td>\n",
              "      <td>601</td>\n",
              "      <td>14 July 2020</td>\n",
              "    </tr>\n",
              "    <tr>\n",
              "      <th>5</th>\n",
              "      <td>3</td>\n",
              "      <td>1</td>\n",
              "      <td>Dindigul</td>\n",
              "      <td>10° 22' N</td>\n",
              "      <td>78° 00' E</td>\n",
              "      <td>10.366667</td>\n",
              "      <td>78.000000</td>\n",
              "      <td>Dindigul</td>\n",
              "      <td>946</td>\n",
              "      <td>12</td>\n",
              "      <td>645</td>\n",
              "      <td>289</td>\n",
              "      <td>2159775</td>\n",
              "      <td>438</td>\n",
              "      <td>14 July 2020</td>\n",
              "    </tr>\n",
              "    <tr>\n",
              "      <th>29</th>\n",
              "      <td>3</td>\n",
              "      <td>1</td>\n",
              "      <td>Tiruppur</td>\n",
              "      <td>11° 05' N</td>\n",
              "      <td>77° 20' E</td>\n",
              "      <td>11.083333</td>\n",
              "      <td>77.333333</td>\n",
              "      <td>Tiruppur</td>\n",
              "      <td>319</td>\n",
              "      <td>4</td>\n",
              "      <td>185</td>\n",
              "      <td>130</td>\n",
              "      <td>2479052</td>\n",
              "      <td>129</td>\n",
              "      <td>14 July 2020</td>\n",
              "    </tr>\n",
              "    <tr>\n",
              "      <th>6</th>\n",
              "      <td>3</td>\n",
              "      <td>1</td>\n",
              "      <td>Erode</td>\n",
              "      <td>11° 20' N</td>\n",
              "      <td>77° 46' E</td>\n",
              "      <td>11.333333</td>\n",
              "      <td>77.766667</td>\n",
              "      <td>Erode</td>\n",
              "      <td>451</td>\n",
              "      <td>7</td>\n",
              "      <td>196</td>\n",
              "      <td>248</td>\n",
              "      <td>2251744</td>\n",
              "      <td>200</td>\n",
              "      <td>14 July 2020</td>\n",
              "    </tr>\n",
              "    <tr>\n",
              "      <th>31</th>\n",
              "      <td>3</td>\n",
              "      <td>1</td>\n",
              "      <td>Tiruvannamalai</td>\n",
              "      <td>12° 15' N</td>\n",
              "      <td>79° 07' E</td>\n",
              "      <td>12.250000</td>\n",
              "      <td>79.116667</td>\n",
              "      <td>Tiruvannamalai</td>\n",
              "      <td>3224</td>\n",
              "      <td>24</td>\n",
              "      <td>1848</td>\n",
              "      <td>1352</td>\n",
              "      <td>2494875</td>\n",
              "      <td>1292</td>\n",
              "      <td>14 July 2020</td>\n",
              "    </tr>\n",
              "    <tr>\n",
              "      <th>0</th>\n",
              "      <td>3</td>\n",
              "      <td>1</td>\n",
              "      <td>Chengalpattu</td>\n",
              "      <td>12° 42' N</td>\n",
              "      <td>80° 01' E</td>\n",
              "      <td>12.700000</td>\n",
              "      <td>80.016667</td>\n",
              "      <td>Chengalpattu</td>\n",
              "      <td>8553</td>\n",
              "      <td>169</td>\n",
              "      <td>5695</td>\n",
              "      <td>2689</td>\n",
              "      <td>2556244</td>\n",
              "      <td>3346</td>\n",
              "      <td>14 July 2020</td>\n",
              "    </tr>\n",
              "    <tr>\n",
              "      <th>18</th>\n",
              "      <td>2</td>\n",
              "      <td>1</td>\n",
              "      <td>Ramanathapuram</td>\n",
              "      <td>9° 22' N</td>\n",
              "      <td>78° 52 ' E</td>\n",
              "      <td>9.366667</td>\n",
              "      <td>78.866667</td>\n",
              "      <td>Ramanathapuram</td>\n",
              "      <td>1956</td>\n",
              "      <td>38</td>\n",
              "      <td>1193</td>\n",
              "      <td>725</td>\n",
              "      <td>1353445</td>\n",
              "      <td>1445</td>\n",
              "      <td>14 July 2020</td>\n",
              "    </tr>\n",
              "    <tr>\n",
              "      <th>21</th>\n",
              "      <td>2</td>\n",
              "      <td>1</td>\n",
              "      <td>Sivagangai</td>\n",
              "      <td>9° 52' N</td>\n",
              "      <td>78° 28' E</td>\n",
              "      <td>9.866667</td>\n",
              "      <td>78.466667</td>\n",
              "      <td>Sivagangai</td>\n",
              "      <td>1003</td>\n",
              "      <td>18</td>\n",
              "      <td>551</td>\n",
              "      <td>434</td>\n",
              "      <td>1339101</td>\n",
              "      <td>749</td>\n",
              "      <td>14 July 2020</td>\n",
              "    </tr>\n",
              "    <tr>\n",
              "      <th>22</th>\n",
              "      <td>2</td>\n",
              "      <td>1</td>\n",
              "      <td>Tenkasi</td>\n",
              "      <td>8° 58' N</td>\n",
              "      <td>77° 21' E</td>\n",
              "      <td>8.966667</td>\n",
              "      <td>77.350000</td>\n",
              "      <td>Tenkasi</td>\n",
              "      <td>824</td>\n",
              "      <td>3</td>\n",
              "      <td>325</td>\n",
              "      <td>496</td>\n",
              "      <td>1407627</td>\n",
              "      <td>585</td>\n",
              "      <td>14 July 2020</td>\n",
              "    </tr>\n",
              "    <tr>\n",
              "      <th>19</th>\n",
              "      <td>2</td>\n",
              "      <td>1</td>\n",
              "      <td>Ranipet</td>\n",
              "      <td>12° 55' N</td>\n",
              "      <td>79° 20' E</td>\n",
              "      <td>12.916667</td>\n",
              "      <td>79.333333</td>\n",
              "      <td>Ranipet</td>\n",
              "      <td>1645</td>\n",
              "      <td>13</td>\n",
              "      <td>796</td>\n",
              "      <td>836</td>\n",
              "      <td>1210277</td>\n",
              "      <td>1359</td>\n",
              "      <td>14 July 2020</td>\n",
              "    </tr>\n",
              "    <tr>\n",
              "      <th>10</th>\n",
              "      <td>2</td>\n",
              "      <td>1</td>\n",
              "      <td>Karur</td>\n",
              "      <td>10° 58' N</td>\n",
              "      <td>78° 07' E</td>\n",
              "      <td>10.966667</td>\n",
              "      <td>78.116667</td>\n",
              "      <td>Karur</td>\n",
              "      <td>207</td>\n",
              "      <td>5</td>\n",
              "      <td>145</td>\n",
              "      <td>57</td>\n",
              "      <td>1064493</td>\n",
              "      <td>194</td>\n",
              "      <td>14 July 2020</td>\n",
              "    </tr>\n",
              "    <tr>\n",
              "      <th>24</th>\n",
              "      <td>2</td>\n",
              "      <td>1</td>\n",
              "      <td>Theni</td>\n",
              "      <td>10° 0' N</td>\n",
              "      <td>77° 28' E</td>\n",
              "      <td>10.000000</td>\n",
              "      <td>77.466667</td>\n",
              "      <td>Theni</td>\n",
              "      <td>1916</td>\n",
              "      <td>20</td>\n",
              "      <td>684</td>\n",
              "      <td>1212</td>\n",
              "      <td>1245899</td>\n",
              "      <td>1538</td>\n",
              "      <td>14 July 2020</td>\n",
              "    </tr>\n",
              "    <tr>\n",
              "      <th>7</th>\n",
              "      <td>2</td>\n",
              "      <td>1</td>\n",
              "      <td>Kallakurichi</td>\n",
              "      <td>11° 44' N</td>\n",
              "      <td>78° 57' E</td>\n",
              "      <td>11.733333</td>\n",
              "      <td>78.950000</td>\n",
              "      <td>Kallakurichi</td>\n",
              "      <td>1904</td>\n",
              "      <td>6</td>\n",
              "      <td>1075</td>\n",
              "      <td>823</td>\n",
              "      <td>1370281</td>\n",
              "      <td>1389</td>\n",
              "      <td>14 July 2020</td>\n",
              "    </tr>\n",
              "    <tr>\n",
              "      <th>8</th>\n",
              "      <td>2</td>\n",
              "      <td>1</td>\n",
              "      <td>Kancheepuram</td>\n",
              "      <td>12° 50' N</td>\n",
              "      <td>79° 45' E</td>\n",
              "      <td>12.833333</td>\n",
              "      <td>79.750000</td>\n",
              "      <td>Kancheepuram</td>\n",
              "      <td>4091</td>\n",
              "      <td>53</td>\n",
              "      <td>1499</td>\n",
              "      <td>2539</td>\n",
              "      <td>1166401</td>\n",
              "      <td>3507</td>\n",
              "      <td>14 July 2020</td>\n",
              "    </tr>\n",
              "    <tr>\n",
              "      <th>28</th>\n",
              "      <td>2</td>\n",
              "      <td>1</td>\n",
              "      <td>Tirupattur</td>\n",
              "      <td>12° 29' N</td>\n",
              "      <td>78° 33' E</td>\n",
              "      <td>12.483333</td>\n",
              "      <td>78.550000</td>\n",
              "      <td>Tirupattur</td>\n",
              "      <td>461</td>\n",
              "      <td>1</td>\n",
              "      <td>272</td>\n",
              "      <td>188</td>\n",
              "      <td>1111812</td>\n",
              "      <td>415</td>\n",
              "      <td>14 July 2020</td>\n",
              "    </tr>\n",
              "    <tr>\n",
              "      <th>32</th>\n",
              "      <td>2</td>\n",
              "      <td>1</td>\n",
              "      <td>Tiruvarur</td>\n",
              "      <td>10° 46' N</td>\n",
              "      <td>79° 38' E</td>\n",
              "      <td>10.766667</td>\n",
              "      <td>79.633333</td>\n",
              "      <td>Tiruvarur</td>\n",
              "      <td>786</td>\n",
              "      <td>1</td>\n",
              "      <td>478</td>\n",
              "      <td>307</td>\n",
              "      <td>1264277</td>\n",
              "      <td>622</td>\n",
              "      <td>14 July 2020</td>\n",
              "    </tr>\n",
              "    <tr>\n",
              "      <th>20</th>\n",
              "      <td>1</td>\n",
              "      <td>1</td>\n",
              "      <td>Salem</td>\n",
              "      <td>11° 39' N</td>\n",
              "      <td>78° 12 ' E</td>\n",
              "      <td>11.650000</td>\n",
              "      <td>78.200000</td>\n",
              "      <td>Salem</td>\n",
              "      <td>2026</td>\n",
              "      <td>9</td>\n",
              "      <td>1024</td>\n",
              "      <td>993</td>\n",
              "      <td>3482056</td>\n",
              "      <td>582</td>\n",
              "      <td>14 July 2020</td>\n",
              "    </tr>\n",
              "    <tr>\n",
              "      <th>2</th>\n",
              "      <td>1</td>\n",
              "      <td>1</td>\n",
              "      <td>Coimbatore</td>\n",
              "      <td>11° 00' N</td>\n",
              "      <td>77° 00' E</td>\n",
              "      <td>11.000000</td>\n",
              "      <td>77.000000</td>\n",
              "      <td>Coimbatore</td>\n",
              "      <td>1480</td>\n",
              "      <td>10</td>\n",
              "      <td>338</td>\n",
              "      <td>1132</td>\n",
              "      <td>3458045</td>\n",
              "      <td>428</td>\n",
              "      <td>14 July 2020</td>\n",
              "    </tr>\n",
              "    <tr>\n",
              "      <th>12</th>\n",
              "      <td>1</td>\n",
              "      <td>1</td>\n",
              "      <td>Madurai</td>\n",
              "      <td>9° 58' N</td>\n",
              "      <td>78° 10' E</td>\n",
              "      <td>9.966667</td>\n",
              "      <td>78.166667</td>\n",
              "      <td>Madurai</td>\n",
              "      <td>6990</td>\n",
              "      <td>124</td>\n",
              "      <td>2667</td>\n",
              "      <td>4199</td>\n",
              "      <td>3038252</td>\n",
              "      <td>2301</td>\n",
              "      <td>14 July 2020</td>\n",
              "    </tr>\n",
              "    <tr>\n",
              "      <th>30</th>\n",
              "      <td>1</td>\n",
              "      <td>1</td>\n",
              "      <td>Tiruvallur</td>\n",
              "      <td>13° 09' N</td>\n",
              "      <td>79° 57' E</td>\n",
              "      <td>13.150000</td>\n",
              "      <td>79.950000</td>\n",
              "      <td>Tiruvallur</td>\n",
              "      <td>7292</td>\n",
              "      <td>133</td>\n",
              "      <td>4014</td>\n",
              "      <td>3145</td>\n",
              "      <td>3728104</td>\n",
              "      <td>1956</td>\n",
              "      <td>14 July 2020</td>\n",
              "    </tr>\n",
              "    <tr>\n",
              "      <th>33</th>\n",
              "      <td>0</td>\n",
              "      <td>1</td>\n",
              "      <td>Vellore</td>\n",
              "      <td>12° 55' N</td>\n",
              "      <td>79° 11' E</td>\n",
              "      <td>12.916667</td>\n",
              "      <td>79.183333</td>\n",
              "      <td>Vellore</td>\n",
              "      <td>3098</td>\n",
              "      <td>10</td>\n",
              "      <td>1344</td>\n",
              "      <td>1744</td>\n",
              "      <td>1614242</td>\n",
              "      <td>1919</td>\n",
              "      <td>14 July 2020</td>\n",
              "    </tr>\n",
              "    <tr>\n",
              "      <th>14</th>\n",
              "      <td>0</td>\n",
              "      <td>1</td>\n",
              "      <td>Namakkal</td>\n",
              "      <td>11° 13 ' N</td>\n",
              "      <td>78° 13' E</td>\n",
              "      <td>11.216667</td>\n",
              "      <td>78.216667</td>\n",
              "      <td>Namakkal</td>\n",
              "      <td>203</td>\n",
              "      <td>1</td>\n",
              "      <td>96</td>\n",
              "      <td>106</td>\n",
              "      <td>1726601</td>\n",
              "      <td>118</td>\n",
              "      <td>14 July 2020</td>\n",
              "    </tr>\n",
              "    <tr>\n",
              "      <th>27</th>\n",
              "      <td>0</td>\n",
              "      <td>1</td>\n",
              "      <td>Tirunelveli</td>\n",
              "      <td>8° 44' N</td>\n",
              "      <td>77° 44' E</td>\n",
              "      <td>8.733333</td>\n",
              "      <td>77.733333</td>\n",
              "      <td>Tirunelveli</td>\n",
              "      <td>1935</td>\n",
              "      <td>11</td>\n",
              "      <td>935</td>\n",
              "      <td>989</td>\n",
              "      <td>1665253</td>\n",
              "      <td>1162</td>\n",
              "      <td>14 July 2020</td>\n",
              "    </tr>\n",
              "    <tr>\n",
              "      <th>25</th>\n",
              "      <td>0</td>\n",
              "      <td>1</td>\n",
              "      <td>Thoothukudi</td>\n",
              "      <td>8° 48' N</td>\n",
              "      <td>78° 11' E</td>\n",
              "      <td>8.800000</td>\n",
              "      <td>78.183333</td>\n",
              "      <td>Thoothukudi</td>\n",
              "      <td>2497</td>\n",
              "      <td>17</td>\n",
              "      <td>1121</td>\n",
              "      <td>1359</td>\n",
              "      <td>1750176</td>\n",
              "      <td>1427</td>\n",
              "      <td>14 July 2020</td>\n",
              "    </tr>\n",
              "    <tr>\n",
              "      <th>4</th>\n",
              "      <td>0</td>\n",
              "      <td>1</td>\n",
              "      <td>Dharmapuri</td>\n",
              "      <td>12° 08' N</td>\n",
              "      <td>78° 13' E</td>\n",
              "      <td>12.133333</td>\n",
              "      <td>78.216667</td>\n",
              "      <td>Dharmapuri</td>\n",
              "      <td>260</td>\n",
              "      <td>1</td>\n",
              "      <td>103</td>\n",
              "      <td>156</td>\n",
              "      <td>1506843</td>\n",
              "      <td>173</td>\n",
              "      <td>14 July 2020</td>\n",
              "    </tr>\n",
              "    <tr>\n",
              "      <th>13</th>\n",
              "      <td>0</td>\n",
              "      <td>1</td>\n",
              "      <td>Nagapattinam[c]</td>\n",
              "      <td>10° 50' N</td>\n",
              "      <td>79° 44' E</td>\n",
              "      <td>10.833333</td>\n",
              "      <td>79.733333</td>\n",
              "      <td>Nagapattinam[c]</td>\n",
              "      <td>383</td>\n",
              "      <td>1</td>\n",
              "      <td>183</td>\n",
              "      <td>199</td>\n",
              "      <td>1616450</td>\n",
              "      <td>237</td>\n",
              "      <td>14 July 2020</td>\n",
              "    </tr>\n",
              "    <tr>\n",
              "      <th>11</th>\n",
              "      <td>0</td>\n",
              "      <td>1</td>\n",
              "      <td>Krishnagiri</td>\n",
              "      <td>12° 32' N</td>\n",
              "      <td>78° 16' E</td>\n",
              "      <td>12.533333</td>\n",
              "      <td>78.266667</td>\n",
              "      <td>Krishnagiri</td>\n",
              "      <td>274</td>\n",
              "      <td>7</td>\n",
              "      <td>165</td>\n",
              "      <td>102</td>\n",
              "      <td>1883731</td>\n",
              "      <td>145</td>\n",
              "      <td>14 July 2020</td>\n",
              "    </tr>\n",
              "    <tr>\n",
              "      <th>9</th>\n",
              "      <td>0</td>\n",
              "      <td>1</td>\n",
              "      <td>Kanyakumari</td>\n",
              "      <td>8° 5' N</td>\n",
              "      <td>77° 32' E</td>\n",
              "      <td>8.083333</td>\n",
              "      <td>77.533333</td>\n",
              "      <td>Kanyakumari</td>\n",
              "      <td>1613</td>\n",
              "      <td>10</td>\n",
              "      <td>553</td>\n",
              "      <td>1050</td>\n",
              "      <td>1870374</td>\n",
              "      <td>862</td>\n",
              "      <td>14 July 2020</td>\n",
              "    </tr>\n",
              "    <tr>\n",
              "      <th>35</th>\n",
              "      <td>0</td>\n",
              "      <td>1</td>\n",
              "      <td>Virudhunagar</td>\n",
              "      <td>9° 35' N</td>\n",
              "      <td>77° 57' E</td>\n",
              "      <td>9.583333</td>\n",
              "      <td>77.950000</td>\n",
              "      <td>Virudhunagar</td>\n",
              "      <td>2427</td>\n",
              "      <td>19</td>\n",
              "      <td>919</td>\n",
              "      <td>1489</td>\n",
              "      <td>1942288</td>\n",
              "      <td>1250</td>\n",
              "      <td>14 July 2020</td>\n",
              "    </tr>\n",
              "  </tbody>\n",
              "</table>\n",
              "</div>"
            ],
            "text/plain": [
              "    Cluster Labels  Active  ... Cases per M Last case reported on\n",
              "15               5       1  ...         351          14 July 2020\n",
              "16               5       1  ...         315          14 July 2020\n",
              "1                4       1  ...       17144          14 July 2020\n",
              "26               3       1  ...         630          14 July 2020\n",
              "34               3       1  ...         823          14 July 2020\n",
              "23               3       1  ...         307          14 July 2020\n",
              "3                3       1  ...         601          14 July 2020\n",
              "5                3       1  ...         438          14 July 2020\n",
              "29               3       1  ...         129          14 July 2020\n",
              "6                3       1  ...         200          14 July 2020\n",
              "31               3       1  ...        1292          14 July 2020\n",
              "0                3       1  ...        3346          14 July 2020\n",
              "18               2       1  ...        1445          14 July 2020\n",
              "21               2       1  ...         749          14 July 2020\n",
              "22               2       1  ...         585          14 July 2020\n",
              "19               2       1  ...        1359          14 July 2020\n",
              "10               2       1  ...         194          14 July 2020\n",
              "24               2       1  ...        1538          14 July 2020\n",
              "7                2       1  ...        1389          14 July 2020\n",
              "8                2       1  ...        3507          14 July 2020\n",
              "28               2       1  ...         415          14 July 2020\n",
              "32               2       1  ...         622          14 July 2020\n",
              "20               1       1  ...         582          14 July 2020\n",
              "2                1       1  ...         428          14 July 2020\n",
              "12               1       1  ...        2301          14 July 2020\n",
              "30               1       1  ...        1956          14 July 2020\n",
              "33               0       1  ...        1919          14 July 2020\n",
              "14               0       1  ...         118          14 July 2020\n",
              "27               0       1  ...        1162          14 July 2020\n",
              "25               0       1  ...        1427          14 July 2020\n",
              "4                0       1  ...         173          14 July 2020\n",
              "13               0       1  ...         237          14 July 2020\n",
              "11               0       1  ...         145          14 July 2020\n",
              "9                0       1  ...         862          14 July 2020\n",
              "35               0       1  ...        1250          14 July 2020\n",
              "\n",
              "[35 rows x 15 columns]"
            ]
          },
          "metadata": {
            "tags": []
          },
          "execution_count": 65
        }
      ]
    },
    {
      "cell_type": "markdown",
      "metadata": {
        "id": "pIuOOHjx1LG_",
        "colab_type": "text"
      },
      "source": [
        "**Clustering TN Districts based on COVID-19 Severity**"
      ]
    },
    {
      "cell_type": "code",
      "metadata": {
        "id": "dCOhmy9Z4_JL",
        "colab_type": "code",
        "colab": {}
      },
      "source": [
        "from geopy.geocoders import Nominatim"
      ],
      "execution_count": 85,
      "outputs": []
    },
    {
      "cell_type": "code",
      "metadata": {
        "id": "MkBQGQmz4_yT",
        "colab_type": "code",
        "colab": {
          "base_uri": "https://localhost:8080/",
          "height": 34
        },
        "outputId": "d9939c15-e38d-4683-9c05-17a3efea5f5a"
      },
      "source": [
        "address = 'Tamilnadu, India'\n",
        "\n",
        "geolocator1 = Nominatim(user_agent=\"ny_explorer\")\n",
        "location2 = geolocator1.geocode(address)\n",
        "latitude2 = location1.latitude\n",
        "longitude2 = location1.longitude\n",
        "print('The geograpical coordinate of {} are {}, {}.'.format(address,latitude2, longitude2))"
      ],
      "execution_count": 86,
      "outputs": [
        {
          "output_type": "stream",
          "text": [
            "The geograpical coordinate of Tamilnadu, India are 13.0338602, 80.2545491.\n"
          ],
          "name": "stdout"
        }
      ]
    },
    {
      "cell_type": "code",
      "metadata": {
        "id": "P0zIpSEQ5EMD",
        "colab_type": "code",
        "colab": {}
      },
      "source": [
        "import folium # map rendering library\n",
        "import matplotlib.cm as cm\n",
        "import numpy as np\n",
        "import matplotlib.colors as colors"
      ],
      "execution_count": 87,
      "outputs": []
    },
    {
      "cell_type": "code",
      "metadata": {
        "id": "jqgyX6Qj43vL",
        "colab_type": "code",
        "colab": {
          "base_uri": "https://localhost:8080/",
          "height": 763
        },
        "outputId": "b86dbf50-2bed-4e2a-80e9-97ce9b8d3cc0"
      },
      "source": [
        "# create map\n",
        "map_clusters = folium.Map(location=[latitude2, longitude2], zoom_start=6)\n",
        "\n",
        "# set color scheme for the clusters\n",
        "x = np.arange(kclusters)\n",
        "ys = [i + x + (i*x)**2 for i in range(kclusters)]\n",
        "colors_array = cm.rainbow(np.linspace(0, 1, len(ys)))\n",
        "rainbow = [colors.rgb2hex(i) for i in colors_array]\n",
        "\n",
        "# add markers to the map\n",
        "markers_colors = []\n",
        "for lat, lon, Dt, Ac, Deaths, cluster in zip(Merge_df['DD_Lat'], Merge_df['DD_Lng'], Merge_df['District'],Merge_df['Active cases'],Merge_df['Deaths'], Merge_df['Cluster Labels']):\n",
        "    label = folium.Popup(str(Dt) + '\\n' + 'A. Cases: ' + str(Ac) + '\\n' + 'Deaths: ' + str(Deaths), parse_html=True)\n",
        "    folium.CircleMarker(\n",
        "        [lat, lon],\n",
        "        radius=5,\n",
        "        popup=label,\n",
        "        color=rainbow[cluster-1],\n",
        "        fill=True,\n",
        "        fill_color=rainbow[cluster-1],\n",
        "        fill_opacity=0.7).add_to(map_clusters)\n",
        "       \n",
        "map_clusters"
      ],
      "execution_count": 88,
      "outputs": [
        {
          "output_type": "execute_result",
          "data": {
            "text/html": [
              "<div style=\"width:100%;\"><div style=\"position:relative;width:100%;height:0;padding-bottom:60%;\"><span style=\"color:#565656\">Make this Notebook Trusted to load map: File -> Trust Notebook</span><iframe src=\"about:blank\" style=\"position:absolute;width:100%;height:100%;left:0;top:0;border:none !important;\" data-html=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 onload=\"this.contentDocument.open();this.contentDocument.write(atob(this.getAttribute('data-html')));this.contentDocument.close();\" allowfullscreen webkitallowfullscreen mozallowfullscreen></iframe></div></div>"
            ],
            "text/plain": [
              "<folium.folium.Map at 0x7f024219f160>"
            ]
          },
          "metadata": {
            "tags": []
          },
          "execution_count": 88
        }
      ]
    }
  ]
}